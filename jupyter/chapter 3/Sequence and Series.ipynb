{
 "cells": [
  {
   "cell_type": "markdown",
   "metadata": {},
   "source": [
    "# Sequence #\n",
    "\n",
    "Sequence is a count collection of objects in which repetation is allowed , unlike sets sequence can be never ending or infinite . In sequence order matters and exactly the same element can appear multiple times.\n",
    "                \n",
    "Different type of series are listed below:\n",
    "                \n",
    "                "
   ]
  },
  {
   "cell_type": "markdown",
   "metadata": {},
   "source": [
    "# Arithmetic Sequence  or Arithmetic progressions#\n",
    "\n",
    "An arithmetic progression is an ordered list of numbers in which the difference between successive terms is a constant. \n",
    "\n",
    "for Example : 9 , 6 , 3 , 0 , -3 , -6 , -9 . Here the difference between the term is -3\n",
    "                \n",
    "\n",
    "                        "
   ]
  },
  {
   "cell_type": "code",
   "execution_count": 8,
   "metadata": {},
   "outputs": [
    {
     "name": "stdout",
     "output_type": "stream",
     "text": [
      "[9, 6, 3, 0, -3, -6, -9]\n"
     ]
    },
    {
     "data": {
      "text/plain": [
       "'plt.plot(Arith_List)\\nplt.show()\\n  \\nprint(Arith_List)'"
      ]
     },
     "execution_count": 8,
     "metadata": {},
     "output_type": "execute_result"
    }
   ],
   "source": [
    "#import matplotlib.pyplot as plt\n",
    "\n",
    "Arith_List = [] # So we can store out sequence in an array and display it\n",
    "\n",
    "N=12 # Our Starting point of the sequence\n",
    "\n",
    "for x in range (0,7): # loop which will run 8 times\n",
    "    \n",
    "    \n",
    "    Arith_Seq = (N-3) # Our series has a difference of -3 so we will subtract N from 3\n",
    "    \n",
    "    \n",
    "    N=Arith_Seq #Changing the value of N so if N is 12 in the begining then it will become 9 ans so on.\n",
    "    \n",
    "    \n",
    "    Arith_List.append(Arith_Seq)\n",
    "     \n",
    "        \n",
    "print(Arith_List)\n",
    "\n",
    "'''plt.plot(Arith_List)\n",
    "plt.show()\n",
    "  \n",
    "print(Arith_List)'''\n",
    "    \n"
   ]
  },
  {
   "cell_type": "markdown",
   "metadata": {},
   "source": [
    "## Arithmetic Sequence .Cont ##\n",
    "\n",
    "The general form of Arithmetic sequence is a , a + b , a + 2b , a + 3b ........... "
   ]
  },
  {
   "cell_type": "code",
   "execution_count": 12,
   "metadata": {},
   "outputs": [
    {
     "name": "stdout",
     "output_type": "stream",
     "text": [
      "[2, 7, 12, 17, 22, 27, 32, 37, 42, 47] \n",
      "\n",
      "Difference is   -5 \n",
      "\n",
      "The Tn term of the series   47 n = 10 \n",
      "\n",
      "The sum of the series is  245.0 \n",
      "\n"
     ]
    }
   ],
   "source": [
    "Arith_List = []\n",
    "\n",
    "\n",
    "a=2\n",
    "b=5\n",
    "\n",
    "for x in range(0,10):\n",
    "    \n",
    "    Arith=a + x * b\n",
    "    \n",
    "    Arith_List.append(Arith)\n",
    "    \n",
    "print(Arith_List,'\\n')\n",
    "\n",
    "print('Difference is  ' , Arith_List[0] - Arith_List[1],'\\n')\n",
    "\n",
    "print('The Tn term of the series  ',a + (10 - 1)*b,'n = 10','\\n') # where n=10\n",
    "\n",
    "print('The sum of the series is ',(10/2)*(2 * a +(10 - 1) * b),'\\n')\n",
    "    \n",
    "    \n"
   ]
  },
  {
   "cell_type": "markdown",
   "metadata": {},
   "source": [
    "# Geometric Sequence or Geometric progressions #\n",
    "\n",
    "In geometric sequence every term is the product of the previous term\n",
    "\n",
    "Example : 1 , 7 , 49 , 343 , 2401...........\n",
    "                        \n",
    "The general term of geometry sequence is a , ar , ar^2 , ar^3 ..........."
   ]
  },
  {
   "cell_type": "code",
   "execution_count": 5,
   "metadata": {},
   "outputs": [
    {
     "name": "stdout",
     "output_type": "stream",
     "text": [
      "[1, 7, 49, 343, 2401, 16807, 117649, 823543, 5764801, 40353607]\n"
     ]
    }
   ],
   "source": [
    "#import plotly.plotly as py #Import plotly as py\n",
    "#import plotly.graph_objs as go #Import plotly graph as g0\n",
    "#from plotly.offline import download_plotlyjs, init_notebook_mode, plot, iplot #So we can use plotly library offline\n",
    "import matplotlib.pyplot as plt\n",
    "\n",
    "\n",
    "Geo_List=[]\n",
    "\n",
    "r = 7\n",
    "for x in range(0,10):\n",
    "    Geo_List.append(r**x)\n",
    "    \n",
    "print(Geo_List)\n",
    "\n",
    "\n",
    "\n",
    "#trace=go.Scatter(x=Geo_List,y=Geo_List,mode='markers')# Defining the x and y coordinates of the graph , as you can see the x and y \n",
    "                                            # value as the same\n",
    "    \n",
    "#data=[trace] # Storing the data from trace in data variable\n",
    "\n",
    "#py.iplot(data,filename='Geo_Sequence') # py.iplot take data variable as input \n",
    "\n"
   ]
  },
  {
   "cell_type": "markdown",
   "metadata": {},
   "source": [
    "# Harmonic series #\n",
    "\n",
    "In mathematics, a harmonic progression (or harmonic sequence) is a progression formed by taking the reciprocals of an arithmetic progression. The sequence is an arithmetic progression, so its reciprocals are a harmonic progression.  \n",
    "            \n",
    "                "
   ]
  },
  {
   "cell_type": "code",
   "execution_count": 6,
   "metadata": {},
   "outputs": [
    {
     "name": "stdout",
     "output_type": "stream",
     "text": [
      "[1.0, 0.5, 0.3333333333333333, 0.25, 0.2, 0.16666666666666666, 0.14285714285714285, 0.125, 0.1111111111111111] \n",
      "\n",
      "The sum of Harmonic Series is  2.8289682539682537\n"
     ]
    }
   ],
   "source": [
    "#import plotly.plotly as py #Import plotly as py\n",
    "#import plotly.graph_objs as go #Import plotly graph as g0\n",
    "#from plotly.offline import download_plotlyjs, init_notebook_mode, plot, iplot #So we can use plotly library offline\n",
    "\n",
    "sum = 0\n",
    "\n",
    "Harmonic = []\n",
    "\n",
    "for i in range(1 , 10):\n",
    "    \n",
    "    d=1/i\n",
    "    Harmonic.append(d)\n",
    "    \n",
    "    sum = sum + d\n",
    "    \n",
    "    \n",
    "\n",
    "print(Harmonic,'\\n')\n",
    "print('The sum of Harmonic Series is ',sum)\n",
    "\n",
    "#trace=go.Scatter(x=Harmonic,y=Harmonic,mode='markers')# Defining the x and y coordinates of the graph , as you can see the x and y \n",
    "                                            # value as the same\n",
    "    \n",
    "#data=[trace] # Storing the data from trace in data variable\n",
    "\n",
    "#py.iplot(data,filename='Harmonic_seq') # py.iplot take data variable as input \n"
   ]
  }
 ],
 "metadata": {
  "kernelspec": {
   "display_name": "Python 3",
   "language": "python",
   "name": "python3"
  },
  "language_info": {
   "codemirror_mode": {
    "name": "ipython",
    "version": 3
   },
   "file_extension": ".py",
   "mimetype": "text/x-python",
   "name": "python",
   "nbconvert_exporter": "python",
   "pygments_lexer": "ipython3",
   "version": "3.6.2"
  }
 },
 "nbformat": 4,
 "nbformat_minor": 2
}
