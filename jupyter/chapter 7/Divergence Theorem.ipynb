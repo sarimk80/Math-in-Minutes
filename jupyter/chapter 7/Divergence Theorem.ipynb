{
 "cells": [
  {
   "attachments": {
    "image.png": {
     "image/png": "[encoded data removed]"
    }
   },
   "cell_type": "markdown",
   "metadata": {},
   "source": [
    "# Divergence Theorem #\n",
    "\n",
    "![image.png](attachment:image.png)\n",
    "F = (x ,-y , z^2-1)\n",
    "\n",
    "z = 0 ,z = 1 , x^2 + y^2 = 1"
   ]
  },
  {
   "cell_type": "code",
   "execution_count": 26,
   "metadata": {},
   "outputs": [
    {
     "name": "stdout",
     "output_type": "stream",
     "text": [
      "2⋅r⋅z\n",
      "π\n"
     ]
    }
   ],
   "source": [
    "from sympy import *\n",
    "x , y , z ,r , Q = symbols('x y z r Q')\n",
    "\n",
    "d_x =diff(x,x)\n",
    "\n",
    "d_y = diff(-y,y)\n",
    "\n",
    "d_z = diff(z**2-1,z)\n",
    "\n",
    "f=d_x+d_y+d_z * r\n",
    "\n",
    "\n",
    "\n",
    "\n",
    "\n",
    "div_Q= integrate(1,(Q,0,2*pi))\n",
    "\n",
    "div_r = integrate(r,(r,0,1))\n",
    "\n",
    "div_z =integrate(2*z,(z,0,1))\n",
    "\n",
    "pprint(div_Q*div_r*div_z)\n",
    "\n",
    "\n",
    "\n",
    "\n",
    "\n",
    "\n"
   ]
  }
 ],
 "metadata": {
  "kernelspec": {
   "display_name": "Python 3",
   "language": "python",
   "name": "python3"
  },
  "language_info": {
   "codemirror_mode": {
    "name": "ipython",
    "version": 3
   },
   "file_extension": ".py",
   "mimetype": "text/x-python",
   "name": "python",
   "nbconvert_exporter": "python",
   "pygments_lexer": "ipython3",
   "version": "3.6.2"
  }
 },
 "nbformat": 4,
 "nbformat_minor": 2
}
