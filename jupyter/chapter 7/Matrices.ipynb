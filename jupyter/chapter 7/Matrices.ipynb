{
 "cells": [
  {
   "attachments": {
    "image.png": {
     "image/png": "[encoded data removed]"
    }
   },
   "cell_type": "markdown",
   "metadata": {},
   "source": [
    "# Matrices #\n",
    "\n",
    "Array or collection of numbers , elements or symbols arrange in fixed row or colums\n",
    "        \n",
    "![image.png](attachment:image.png)"
   ]
  },
  {
   "cell_type": "code",
   "execution_count": 10,
   "metadata": {},
   "outputs": [
    {
     "name": "stdout",
     "output_type": "stream",
     "text": [
      "2 x 2 matrix\n",
      "⎡1  2⎤\n",
      "⎢    ⎥\n",
      "⎣2  3⎦\n",
      "\n",
      " 3 x 3 matrix\n",
      "⎡1  2  3 ⎤\n",
      "⎢        ⎥\n",
      "⎢2  3  6 ⎥\n",
      "⎢        ⎥\n",
      "⎣4  8  10⎦\n",
      "\n",
      " 3 x 2 matrix\n",
      "⎡1  2⎤\n",
      "⎢    ⎥\n",
      "⎢2  3⎥\n",
      "⎢    ⎥\n",
      "⎣1  5⎦\n",
      "\n",
      " 2 x 3 matrix\n",
      "⎡1  2  5⎤\n",
      "⎢       ⎥\n",
      "⎣2  3  9⎦\n"
     ]
    }
   ],
   "source": [
    "from sympy import *\n",
    "\n",
    "M = Matrix([[1,2],[2,3]]) # There are 2 rows and 2 colums\n",
    "\n",
    "print('2 x 2 matrix')\n",
    "pprint(M)\n",
    "\n",
    "M = Matrix([[1,2,3],[2,3,6],[4,8,10]]) # There are 3 rows and 3 colums\n",
    "\n",
    "print('\\n','3 x 3 matrix')\n",
    "pprint(M)\n",
    "\n",
    "M = Matrix([[1,2],[2,3],[1,5]]) # There are 3 rows and 2 colums\n",
    "\n",
    "print('\\n','3 x 2 matrix')\n",
    "pprint(M)\n",
    "\n",
    "M = Matrix([[1,2,5],[2,3,9]]) # There are 2 rows and 3 colums\n",
    "\n",
    "print('\\n','2 x 3 matrix')\n",
    "pprint(M)"
   ]
  },
  {
   "cell_type": "code",
   "execution_count": 18,
   "metadata": {},
   "outputs": [
    {
     "name": "stdout",
     "output_type": "stream",
     "text": [
      "Adding matrices\n",
      "⎡ 11     20    40 ⎤\n",
      "⎢                 ⎥\n",
      "⎢22.0   17.2  25.3⎥\n",
      "⎢                 ⎥\n",
      "⎣121.2  31.8  0.3 ⎦\n",
      "\n",
      "\n",
      "Subtracting matrices\n",
      "⎡  9     10    0  ⎤\n",
      "⎢                 ⎥\n",
      "⎢18.0   14.0  20.7⎥\n",
      "⎢                 ⎥\n",
      "⎣118.8  30.0  -0.3⎦\n",
      "\n",
      "\n",
      "Muitiplying matrices\n",
      "⎡64.0    92.0    240.5 ⎤\n",
      "⎢                      ⎥\n",
      "⎢78.8   145.66  442.78 ⎥\n",
      "⎢                      ⎥\n",
      "⎣181.8  649.44  2471.07⎦\n",
      "\n",
      "\n",
      "Multiplying matrices with 10\n",
      "⎡ 10    50   200 ⎤\n",
      "⎢                ⎥\n",
      "⎢20.0  16.0  23.0⎥\n",
      "⎢                ⎥\n",
      "⎣12.0  9.0   3.0 ⎦\n",
      "\n",
      "\n",
      "Multiplying matrices with 0.5\n",
      "⎡5.0    7.5   10.0⎤\n",
      "⎢                 ⎥\n",
      "⎢10.0   7.8   11.5⎥\n",
      "⎢                 ⎥\n",
      "⎣60.0  15.45   0  ⎦\n"
     ]
    }
   ],
   "source": [
    "from sympy import *\n",
    "\n",
    "\n",
    "\n",
    "M_1 = Matrix([[10,15,20],[20,15.6,23],[120,30.9,0]])\n",
    "\n",
    "M_2 = Matrix([[1,5,20],[2.0,1.6,2.3],[1.20,0.9,0.3]])\n",
    "\n",
    "'''\n",
    "    Adding matrices\n",
    "'''\n",
    "print('Adding matrices')\n",
    "pprint(M_1 + M_2)\n",
    "\n",
    "'''\n",
    "    Subtracting matrices\n",
    "'''\n",
    "\n",
    "print('\\n')\n",
    "print('Subtracting matrices')\n",
    "pprint(M_1 - M_2)\n",
    "\n",
    "\n",
    "\n",
    "'''\n",
    "    Multiplication matrices\n",
    "'''\n",
    "\n",
    "print('\\n')\n",
    "print('Muitiplying matrices')\n",
    "pprint(M_1 * M_2)\n",
    "\n",
    "\n",
    "print('\\n')\n",
    "\n",
    "print('Multiplying matrices with 10')\n",
    "pprint(10 * M_2)\n",
    "\n",
    "\n",
    "print('\\n')\n",
    "print('Multiplying matrices with 0.5')\n",
    "pprint(.5 * M_1)\n",
    "\n"
   ]
  },
  {
   "cell_type": "code",
   "execution_count": 25,
   "metadata": {},
   "outputs": [
    {
     "name": "stdout",
     "output_type": "stream",
     "text": [
      "Determinant of matrix M \n",
      "\n",
      "1661.83333333333\n",
      "⎡⎡1 ⎤  ⎡-1⎤⎤\n",
      "⎢⎢  ⎥  ⎢  ⎥⎥\n",
      "⎢⎢-2⎥  ⎢1 ⎥⎥\n",
      "⎢⎢  ⎥, ⎢  ⎥⎥\n",
      "⎢⎢1 ⎥  ⎢0 ⎥⎥\n",
      "⎢⎢  ⎥  ⎢  ⎥⎥\n",
      "⎣⎣0 ⎦  ⎣1 ⎦⎦\n"
     ]
    }
   ],
   "source": [
    "from sympy import *\n",
    "\n",
    "M = Matrix([[10.5,5.5,20],[2,15,2/3],[2**3,100,5]])\n",
    "\n",
    "\n",
    "print('Determinant of matrix M','\\n')\n",
    "pprint(M.det())\n",
    "\n",
    "\n",
    "M = Matrix([[1,1,1,0],[2,1,0,1]])\n",
    "pprint(M.nullspace())"
   ]
  },
  {
   "cell_type": "markdown",
   "metadata": {},
   "source": [
    "## Null Space ##\n",
    "\n",
    "Also known as the kernel of a matrix, the null space is the set of all vectors that are mapped \n",
    "to the zero vector by the action of the linear transformation.\n",
    "        \n",
    "2x1 + x2 + 0x3 - 3x4 = 0\n",
    "0.5x1 + 0x2 - 4x3 + 2x4 = 0\n",
    "        \n",
    "        "
   ]
  },
  {
   "cell_type": "code",
   "execution_count": 27,
   "metadata": {},
   "outputs": [
    {
     "name": "stdout",
     "output_type": "stream",
     "text": [
      "⎡⎡ 8.0 ⎤  ⎡-4.0⎤⎤\n",
      "⎢⎢     ⎥  ⎢    ⎥⎥\n",
      "⎢⎢-16.0⎥  ⎢11.0⎥⎥\n",
      "⎢⎢     ⎥, ⎢    ⎥⎥\n",
      "⎢⎢  1  ⎥  ⎢ 0  ⎥⎥\n",
      "⎢⎢     ⎥  ⎢    ⎥⎥\n",
      "⎣⎣  0  ⎦  ⎣ 1  ⎦⎦\n"
     ]
    }
   ],
   "source": [
    "from sympy import *\n",
    "\n",
    "M_1 = Matrix([[2,1,0,-3],[.5,0,-4,2]])\n",
    "\n",
    "pprint(M_1.nullspace())"
   ]
  },
  {
   "cell_type": "markdown",
   "metadata": {},
   "source": [
    "Now if we put the value of x1 x2 x3 and x4 in the above equation the answer will be zero\n",
    "\n",
    "2(8) + (-16) + 0(1) - 3(0) = 0\n",
    "0.5(-4) + 0(11) -4(0) +2(1) = 0"
   ]
  },
  {
   "cell_type": "markdown",
   "metadata": {},
   "source": [
    "# Eigenvalues and eigenvectors #\n"
   ]
  },
  {
   "cell_type": "code",
   "execution_count": 46,
   "metadata": {},
   "outputs": [
    {
     "name": "stdout",
     "output_type": "stream",
     "text": [
      "Eigen values are :\n",
      "{5: 1, 10: 1}\n",
      "\n",
      "\n",
      "Eigen vector are :\n",
      "⎡⎛      ⎡⎡-2⎤⎤⎞  ⎛       ⎡⎡1/2⎤⎤⎞⎤\n",
      "⎢⎜5, 1, ⎢⎢  ⎥⎥⎟, ⎜10, 1, ⎢⎢   ⎥⎥⎟⎥\n",
      "⎣⎝      ⎣⎣1 ⎦⎦⎠  ⎝       ⎣⎣ 1 ⎦⎦⎠⎦\n"
     ]
    }
   ],
   "source": [
    "from sympy import *\n",
    "\n",
    "M = Matrix([[6, 2], [2,9]])\n",
    "\n",
    "print('Eigen values are :')\n",
    "pprint(M.eigenvals())\n",
    "\n",
    "print('\\n')\n",
    "\n",
    "print('Eigen vector are :')\n",
    "\n",
    "pprint(M.eigenvects())"
   ]
  },
  {
   "cell_type": "markdown",
   "metadata": {},
   "source": [
    "The eigen values or the value of lamda are 5 and 10 and the eigen vector with lamda = to 5 is [-2 1]"
   ]
  }
 ],
 "metadata": {
  "kernelspec": {
   "display_name": "Python 3",
   "language": "python",
   "name": "python3"
  },
  "language_info": {
   "codemirror_mode": {
    "name": "ipython",
    "version": 3
   },
   "file_extension": ".py",
   "mimetype": "text/x-python",
   "name": "python",
   "nbconvert_exporter": "python",
   "pygments_lexer": "ipython3",
   "version": "3.6.2"
  }
 },
 "nbformat": 4,
 "nbformat_minor": 2
}
