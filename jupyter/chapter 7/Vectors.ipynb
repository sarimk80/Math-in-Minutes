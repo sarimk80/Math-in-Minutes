{
 "cells": [
  {
   "cell_type": "markdown",
   "metadata": {},
   "source": [
    "# Vectors #\n",
    "\n",
    "A vector is an object that has both a magnitude and a direction.For example, the wind has a given speed and direction, and like winds on a weather map, vectors are often represented by an arrow, with the arrowhead and alignment of the arrow defining the direction, and the length denoting the vector’s size.\n",
    "        \n",
    "        "
   ]
  },
  {
   "cell_type": "markdown",
   "metadata": {},
   "source": [
    "## Adding and Subtracting of Vectors ##\n",
    "\n",
    "The sum of vectors (1,2) and (2,5) is (3,7).Imagine 1 as x1 and 2 as y1 in first vector and 2 as x2 and 5 as y2 in \n",
    "second vector and add x1 with x2 and y1 with y2 . Same will happen when subtracting but instead of adding we will\n",
    "subtrace"
   ]
  },
  {
   "cell_type": "code",
   "execution_count": 1,
   "metadata": {},
   "outputs": [
    {
     "name": "stdout",
     "output_type": "stream",
     "text": [
      "The Sum of Vectors (2,1) and (1,3) is :\n",
      "[3  4]\n",
      "\n",
      "\n",
      "The difference of Vectors (2,1) and (1,3) is :\n",
      "[1  -2]\n"
     ]
    }
   ],
   "source": [
    "from sympy import *\n",
    "\n",
    "M,N =symbols('M N')\n",
    "\n",
    "M = Matrix([[2, 1]])\n",
    "N = Matrix([[1, 3]])\n",
    "\n",
    "print('The Sum of Vectors (2,1) and (1,3) is :')\n",
    "pprint(M+N)\n",
    "print('\\n')\n",
    "\n",
    "print('The difference of Vectors (2,1) and (1,3) is :')\n",
    "pprint(M-N)"
   ]
  },
  {
   "cell_type": "markdown",
   "metadata": {},
   "source": [
    "## Scaler and cross product ##\n",
    "\n",
    "The dot product of vectors (2,1,4) and (1,3,5) will be (2)(1)+(1)(3)+(4)(5) = 2+3+20 = 25.\n",
    "\n",
    "The Scaler product of (2,1,4) and (1,3,5) will be  |i j k| \n",
    "                                                   |2 1 4| = i(1)(5)-(4)(3) - j(2)(5)-(4)(1) + k (2)(3)-(1)(1)  \n",
    "                                                   |1 3 5|\n",
    "\n",
    "-7i -6j + 5k"
   ]
  },
  {
   "cell_type": "code",
   "execution_count": 2,
   "metadata": {},
   "outputs": [
    {
     "name": "stdout",
     "output_type": "stream",
     "text": [
      "The Dot product of Vector M and N is :\n",
      "25\n",
      "\n",
      "\n",
      "The Cross product of Vector M and N is :\n",
      "[-7  -6  5]\n"
     ]
    }
   ],
   "source": [
    "from sympy import *\n",
    "\n",
    "M,N =symbols('M N')\n",
    "\n",
    "M = Matrix([[2, 1, 4]])\n",
    "N = Matrix([[1, 3, 5]])\n",
    "\n",
    "print('The Dot product of Vector M and N is :')\n",
    "pprint(M.dot(N))\n",
    "\n",
    "print('\\n')\n",
    "print('The Cross product of Vector M and N is :')\n",
    "pprint(M.cross(N))\n",
    "\n"
   ]
  }
 ],
 "metadata": {
  "kernelspec": {
   "display_name": "Python 3",
   "language": "python",
   "name": "python3"
  },
  "language_info": {
   "codemirror_mode": {
    "name": "ipython",
    "version": 3
   },
   "file_extension": ".py",
   "mimetype": "text/x-python",
   "name": "python",
   "nbconvert_exporter": "python",
   "pygments_lexer": "ipython3",
   "version": "3.6.2"
  }
 },
 "nbformat": 4,
 "nbformat_minor": 2
}
