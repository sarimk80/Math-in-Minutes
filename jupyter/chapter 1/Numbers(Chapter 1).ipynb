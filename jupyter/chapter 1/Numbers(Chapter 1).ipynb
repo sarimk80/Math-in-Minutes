{
 "cells": [
  {
   "cell_type": "markdown",
   "metadata": {},
   "source": [
    "  # Chapter 1 #\n",
    "  \n",
    "  ## Numbers ##\n",
    "  \n",
    "  \n",
    "  \n",
    "  \n"
   ]
  },
  {
   "cell_type": "markdown",
   "metadata": {},
   "source": [
    " ### Natural Numbers :###\n",
    "  \n",
    "              Natural numbers are simple counting numbers , those numbers that are use for counting objects. \n",
    "              Some defination  of natural numbers begin the number by counting from 0 whereas other start from 1.\n",
    "              Mathematicians use N or ℕ (an N in blackboard bold) to refer to the set of all natural numbers. Older \n",
    "              texts have also occasionally employed J as the symbol for this set. \n",
    "              Example of Natural numbers are 0,1,2,3,4....\n",
    "\n",
    "              Below there is a python code for printing natural number both starting from 0 and 1."
   ]
  },
  {
   "cell_type": "code",
   "execution_count": 2,
   "metadata": {},
   "outputs": [
    {
     "name": "stdout",
     "output_type": "stream",
     "text": [
      "Enter a natural number 10\n",
      "Natural number starting with 0\n",
      "0\n",
      "1\n",
      "2\n",
      "3\n",
      "4\n",
      "5\n",
      "6\n",
      "7\n",
      "8\n",
      "9\n",
      "10\n",
      "Natural number starting with 1\n",
      "1\n",
      "2\n",
      "3\n",
      "4\n",
      "5\n",
      "6\n",
      "7\n",
      "8\n",
      "9\n",
      "10\n"
     ]
    }
   ],
   "source": [
    "N=int(input(\"Enter a natural number \")) # Take input value from the user and store it in variable N\n",
    "\n",
    "print(\"Natural number starting with 0\")\n",
    "\n",
    "for value in range(0,N+1): # Simple for loop which print the value form 0 to the value of N\n",
    "    \n",
    "    print(value)\n",
    "    \n",
    "\n",
    "print(\"Natural number starting with 1\")\n",
    "\n",
    "for value in range(1,N+1):\n",
    "    \n",
    "    print(value)\n",
    "    \n",
    "    "
   ]
  },
  {
   "cell_type": "code",
   "execution_count": 2,
   "metadata": {},
   "outputs": [
    {
     "name": "stdout",
     "output_type": "stream",
     "text": [
      "Enter a natural number 10\n",
      "High five! You successfully sent some data to your account on plotly. View your plot in your browser at https://plot.ly/~sarimk80/0 or inside your plot.ly account where it is named 'basic-bar'\n"
     ]
    },
    {
     "data": {
      "text/html": [
       "<iframe id=\"igraph\" scrolling=\"no\" style=\"border:none;\" seamless=\"seamless\" src=\"https://plot.ly/~sarimk80/0.embed\" height=\"525px\" width=\"100%\"></iframe>"
      ],
      "text/plain": [
       "<plotly.tools.PlotlyDisplay object>"
      ]
     },
     "execution_count": 2,
     "metadata": {},
     "output_type": "execute_result"
    }
   ],
   "source": [
    "import plotly.plotly as py #Import plotly as py\n",
    "import plotly.graph_objs as go #Import plotly graph as g0\n",
    "from plotly.offline import download_plotlyjs, init_notebook_mode, plot, iplot #So we can use plotly library offline\n",
    "\n",
    "\n",
    "x_y_value=[] # An Emply array which will be use to store value from for loop\n",
    "\n",
    "N=int(input(\"Enter a natural number \"))\n",
    "\n",
    "for value in range(0,N+1):\n",
    "    #print(value)\n",
    "    x_y_value.append(value) #Storing the value in for loop into the array with append method\n",
    "    \n",
    "    \n",
    "trace=go.Scatter(x=x_y_value,y=x_y_value)   # Defining the x and y coordinates of the graph , as you can see the x and y \n",
    "                                            # value as the same\n",
    "    \n",
    "data=[trace] # Storing the data from trace in data variable\n",
    "\n",
    "py.iplot(data,filename='basic-bar') # py.iplot take data variable as input \n",
    "    \n"
   ]
  },
  {
   "cell_type": "markdown",
   "metadata": {
    "collapsed": true
   },
   "source": [
    "### Rational Number: ###\n",
    "                        Those numbers which we get by dividing a integer with non-zero number, in other word numbers\n",
    "                        that can be experssed in fraction (a/b). Example of fraction numbers are (1/6=0.1666).\n",
    "                        Rational numbers is usually denoted by a boldface Q (ℚ).\n",
    "                         \n",
    "                        \n",
    "### Irreducible Fraction ###\n",
    "                        Irreducible fracrtion are those which have no common divisor than 1. Example 90/40=9/4\n",
    "                        \n",
    "                        \n",
    "                        \n",
    "   **In the below code try entrying 0 in Denominator.**\n"
   ]
  },
  {
   "cell_type": "code",
   "execution_count": 8,
   "metadata": {},
   "outputs": [
    {
     "name": "stdout",
     "output_type": "stream",
     "text": [
      "Enter a first integer number 10\n",
      "Enter a Second integer number 5\n",
      "2.0\n"
     ]
    }
   ],
   "source": [
    "Numerator=float(input(\"Enter a first integer number \"))\n",
    "Denominator=float(input(\"Enter a Second integer number \"))\n",
    "\n",
    "Q=Numerator/Denominator\n",
    "\n",
    "print(Q)\n",
    "\n",
    "\n"
   ]
  },
  {
   "cell_type": "markdown",
   "metadata": {},
   "source": [
    "### Prime Number: ###\n",
    "                Prime number are those number that are divisible by 1 and themselve .Some of the examples of \n",
    "                prime numbers are 1,3,5,7,11,13,17,19,23,29,31 these numbers are only divisible by 1 and them selve.\n",
    "                In other word these numbers cannot be form by multiplying two smaller nutural numbers.No even number\n",
    "                greater than 2 is a prime number."
   ]
  },
  {
   "cell_type": "code",
   "execution_count": 25,
   "metadata": {},
   "outputs": [
    {
     "name": "stdout",
     "output_type": "stream",
     "text": [
      "Enter any natural number 9373593\n",
      "9373593  is a prime number\n"
     ]
    }
   ],
   "source": [
    "num=int(input(\"Enter any natural number \"))  # Asking user to enter natural number and storing it in num varialbe\n",
    "\n",
    "if num > 1:  # Checking with if statement of entered value is greater than 1\n",
    "    \n",
    "    \n",
    "    for x in range(2,num): # Storing value for 2 to num i x\n",
    "        \n",
    "        \n",
    "        if(num%x)==0: # If the num value is divisible by x then it is not a prime number . Example if the entered value is\n",
    "                      # 10 then it will first divide it by 2 which is 5 then it will divide it by 5 so it is not a prime\n",
    "                      # number\n",
    "                    \n",
    "            print(\"Not a prime number\",num)\n",
    "            \n",
    "            print(x,\"times\",num//x,\"is\",num)\n",
    "            \n",
    "            break\n",
    "            \n",
    "        else:# Otherwise it it a prime number\n",
    "            \n",
    "            print(num,\" is a prime number\")\n",
    "            \n",
    "            break\n",
    "            \n",
    "            \n",
    "else: # If the entered value is not greater than 1 then it will go to the else statement\n",
    "    \n",
    "    print(\"Enter a value greater than 1\")"
   ]
  },
  {
   "cell_type": "code",
   "execution_count": 3,
   "metadata": {},
   "outputs": [
    {
     "name": "stdout",
     "output_type": "stream",
     "text": [
      "Enter a Starting natural number 2\n",
      "Enter a Ending natural number 8\n",
      "2\n",
      "3\n",
      "5\n",
      "7\n",
      "High five! You successfully sent some data to your account on plotly. View your plot in your browser at https://plot.ly/~sarimk80/0 or inside your plot.ly account where it is named 'basic-bar'\n"
     ]
    },
    {
     "data": {
      "text/html": [
       "<iframe id=\"igraph\" scrolling=\"no\" style=\"border:none;\" seamless=\"seamless\" src=\"https://plot.ly/~sarimk80/0.embed\" height=\"525px\" width=\"100%\"></iframe>"
      ],
      "text/plain": [
       "<plotly.tools.PlotlyDisplay object>"
      ]
     },
     "execution_count": 3,
     "metadata": {},
     "output_type": "execute_result"
    }
   ],
   "source": [
    "import plotly.plotly as py #Import plotly as py\n",
    "import plotly.graph_objs as go #Import plotly graph as g0\n",
    "from plotly.offline import download_plotlyjs, init_notebook_mode, plot, iplot #So we can use plotly library offline\n",
    "\n",
    "\n",
    "x_y_value=[] # An Emply array which will be use to store value from for loop\n",
    "\n",
    "First_num=int(input(\"Enter a Starting natural number \"))\n",
    "\n",
    "Second_num=int(input(\"Enter a Ending natural number \"))\n",
    "\n",
    "for num in range(First_num,Second_num+1): # Will loop through the number user has given and store it in x\n",
    "    \n",
    "    prime = True # Prime variable is boolean which is true\n",
    "    \n",
    "    \n",
    "    '''\n",
    "        Imagine if the value of \"num\" is 8 the loop will iterate through 2 - 8 and % symbol\n",
    "        will check if   8 % value of x (which is 2 - 8) is 0 if it is then it is not a prime.\n",
    "        \n",
    "        % Symbol in python give the remainder\n",
    "    \n",
    "    '''\n",
    "    \n",
    "    \n",
    "    for x in range(2,num): \n",
    "        \n",
    "        if num % x ==0:\n",
    "            \n",
    "            prime =False\n",
    "            \n",
    "            break\n",
    "            \n",
    "    if prime:\n",
    "        \n",
    "        x_y_value.append(num)\n",
    "        \n",
    "        print(num)\n",
    "    \n",
    "    \n",
    "# Defining the x and y coordinates of the graph , as you can see the x and y value as the same\n",
    "\n",
    "        \n",
    "trace=go.Scatter(x=x_y_value , y=x_y_value,mode='markers', marker = dict( \n",
    "        size = 20,\n",
    "        color = 'rgba(231, 76, 60,.7)',))   \n",
    "\n",
    "data=[trace] # Storing the data from trace in data variable\n",
    "\n",
    "py.iplot(data,filename='basic-bar') # py.iplot take data variable as input "
   ]
  },
  {
   "cell_type": "markdown",
   "metadata": {},
   "source": [
    "### GCD (Greatest common Division)     Euclid’s algorithm ###\n",
    "\n",
    "                Euclid's algorithm state that the largest number that divide both of the numbers is the GCD . The\n",
    "                simplest version of GCD is that the GCD of the two number is the same as GCD of the smallest number\n",
    "                and different between them. For Example :\n",
    "                \n",
    "                What is the GCD of 523 and 345?\n",
    "                \n",
    "                529 - 345 = 184\n",
    "                \n",
    "                345 - 184 = 161\n",
    "                \n",
    "                184 - 161 = 23\n",
    "                \n",
    "                161 - 23 = 138\n",
    "                \n",
    "                138 - 23 = 115\n",
    "                \n",
    "                115 - 23 = 92\n",
    "                .\n",
    "                .\n",
    "                .\n",
    "                .\n",
    "                .\n",
    "                46 - 23 = 23\n",
    "                23 - 23 = 0\n",
    "                \n",
    "                So 23 is the GCD of 529 and 345\n",
    "                \n",
    "                \n",
    "   ** Other Example **\n",
    "   \n",
    "               What is the GCD of 741 and 380\n",
    "               \n",
    "               \n",
    "               741 / 380 = Remainder 361\n",
    "               \n",
    "               380 / 361 = Remainder 19\n",
    "               \n",
    "               361 / 19 = Remainder 0\n",
    "               \n",
    "               So 19 is the GCD of 741 and 380\n",
    "               \n",
    "               \n",
    "                \n",
    "                \n",
    "                \n",
    "                \n",
    "                \n",
    "                \n",
    "               \n",
    "\n",
    "        "
   ]
  },
  {
   "cell_type": "code",
   "execution_count": 5,
   "metadata": {},
   "outputs": [
    {
     "name": "stdout",
     "output_type": "stream",
     "text": [
      "Enter a First natural number 10\n",
      "Enter a Second natural number 2\n",
      "The GCD is  2\n"
     ]
    }
   ],
   "source": [
    "'''\n",
    "    This is a recursive function , this function will repeat itself until the value of b is 0 means the remainder\n",
    "    between a and b is equal to 0 and if the value of b is zero it will return the value of a just as we did above\n",
    "'''\n",
    "\n",
    "\n",
    "def gcd (a,b):\n",
    "    \n",
    "    if(b==0):\n",
    "        return a\n",
    "    else:\n",
    "        return gcd(b,a%b)\n",
    "\n",
    "\n",
    "\n",
    "Euclid_1 = int (input(\"Enter a First natural number \"))\n",
    "\n",
    "Euclid_2 = int (input(\"Enter a Second natural number \"))\n",
    "\n",
    "GCD = gcd(Euclid_1,Euclid_2)\n",
    "\n",
    "print(\"The GCD is \", GCD)\n",
    "\n"
   ]
  },
  {
   "cell_type": "code",
   "execution_count": 7,
   "metadata": {},
   "outputs": [
    {
     "name": "stdout",
     "output_type": "stream",
     "text": [
      "gcd is:  19\n"
     ]
    }
   ],
   "source": [
    "import math\n",
    "\n",
    "\n",
    "print(\"gcd is: \",math.gcd(741,380))"
   ]
  },
  {
   "cell_type": "markdown",
   "metadata": {},
   "source": [
    "### Irrational numbers ###\n",
    "\n",
    "                    Those numbers which cannot be obtain by dividing one natural number by another natural number.\n",
    "                    Example of irrational numbers are e , i , π , √2 etc.  "
   ]
  },
  {
   "cell_type": "code",
   "execution_count": 11,
   "metadata": {},
   "outputs": [
    {
     "name": "stdout",
     "output_type": "stream",
     "text": [
      "e  2.718281828459045\n",
      "π  3.141592653589793\n",
      "√2:  1.4142135623730951\n"
     ]
    }
   ],
   "source": [
    "import math\n",
    "\n",
    "print(\"e \",math.e)\n",
    "print(\"π \",math.pi)\n",
    "print(\"√2: \",math.sqrt(2))\n",
    "\n",
    "\n"
   ]
  }
 ],
 "metadata": {
  "kernelspec": {
   "display_name": "Python 3",
   "language": "python",
   "name": "python3"
  },
  "language_info": {
   "codemirror_mode": {
    "name": "ipython",
    "version": 3
   },
   "file_extension": ".py",
   "mimetype": "text/x-python",
   "name": "python",
   "nbconvert_exporter": "python",
   "pygments_lexer": "ipython3",
   "version": "3.6.2"
  }
 },
 "nbformat": 4,
 "nbformat_minor": 2
}
