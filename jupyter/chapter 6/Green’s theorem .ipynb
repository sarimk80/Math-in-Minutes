{
 "cells": [
  {
   "cell_type": "markdown",
   "metadata": {},
   "source": [
    "# Green's Theorem #\n",
    "\n",
    "### ∮ x y dx + x^2 y^3 dy\n",
    "\n",
    "### triangle with vertices (0,0), (1,0), (1,2)\n",
    "\n",
    "\n",
    "#### ∫ P dx + Q dy = ∬  ( ∂Q / ∂x − ∂P / ∂y) dA\n",
    "\n",
    "where P =xy\n",
    "and Q = x^2 y^3"
   ]
  },
  {
   "cell_type": "code",
   "execution_count": 30,
   "metadata": {},
   "outputs": [
    {
     "name": "stdout",
     "output_type": "stream",
     "text": [
      "     3\n",
      "2⋅x⋅y \n",
      "x\n"
     ]
    }
   ],
   "source": [
    "from sympy import *\n",
    "\n",
    "x = Symbol('x')\n",
    "y = Symbol('y')\n",
    "\n",
    "'''\n",
    "    The Derivative of Q with respect to dx is \n",
    "'''\n",
    "\n",
    "Diff_Q = diff(x**2*y**3,x)\n",
    "pprint(Diff_Q)\n",
    "\n",
    "'''\n",
    "    The Derivative of P with respect to dy is\n",
    "'''\n",
    "\n",
    "Diff_P = diff(x*y,y)\n",
    "pprint(Diff_P)\n",
    "\n",
    "\n"
   ]
  },
  {
   "cell_type": "markdown",
   "metadata": {},
   "source": [
    "#### ∬  ( 2x . y^3 − x) dy dx\n",
    "\n",
    "we will first integrate with respect to dy and the dx\n",
    "\n",
    "but first display the points on the graph"
   ]
  },
  {
   "cell_type": "code",
   "execution_count": 3,
   "metadata": {},
   "outputs": [
    {
     "data": {
      "image/png": "[encoded data removed]",
      "text/plain": [
       "<matplotlib.figure.Figure at 0x7f0ce29d0278>"
      ]
     },
     "metadata": {},
     "output_type": "display_data"
    }
   ],
   "source": [
    "#import plotly.plotly as py #Import plotly as py\n",
    "#import plotly.graph_objs as go #Import plotly graph as g0\n",
    "#from plotly.offline import download_plotlyjs, init_notebook_mode, plot, iplot #So we can use plotly library offline\n",
    "import matplotlib.pyplot as plt\n",
    "\n",
    "x_axis=[0,1,1]\n",
    "y_axis=[0,0,2]\n",
    "\n",
    "#trace=go.Scatter(x=x_axis,y=y_axis)\n",
    "#data=[trace]\n",
    "#py.iplot(data,filename='Fourier Series') # py.iplot take data variable as input \n",
    "\n",
    "fig, ax = plt.subplots()\n",
    "    \n",
    "line1, = ax.plot(x_axis,y_axis, label='Exponential')\n",
    "line1.set_dashes([2, 2, 10, 2])  # 2pt line, 2pt break, 10pt line, 2pt break\n",
    "\n",
    "plt.show()"
   ]
  },
  {
   "cell_type": "markdown",
   "metadata": {},
   "source": [
    "Our y limits will be from 0 to 2x\n",
    "and our x limits will be from 0,1"
   ]
  },
  {
   "cell_type": "code",
   "execution_count": 2,
   "metadata": {},
   "outputs": [
    {
     "name": "stdout",
     "output_type": "stream",
     "text": [
      "   5      2\n",
      "8⋅x  - 2⋅x \n",
      "\n",
      "\n",
      "2/3\n"
     ]
    }
   ],
   "source": [
    "from sympy import *\n",
    "\n",
    "x = Symbol('x')\n",
    "y = Symbol('y')\n",
    "\n",
    "'''\n",
    "    Integrating  2x . y^3 - x  W.R.T dy\n",
    "\n",
    "'''\n",
    "\n",
    "dy_integration=integrate(2*x*y**3 - x,(y,0,2*x))\n",
    "\n",
    "pprint(dy_integration)\n",
    "\n",
    "'''\n",
    "    Integrating  -x^5/2 + x^2 -x/2  W.R.T dx\n",
    "\n",
    "'''\n",
    "\n",
    "dx_integration=integrate(dy_integration ,(x,0,1))\n",
    "\n",
    "print('\\n')\n",
    "pprint(dx_integration)"
   ]
  }
 ],
 "metadata": {
  "kernelspec": {
   "display_name": "Python 3",
   "language": "python",
   "name": "python3"
  },
  "language_info": {
   "codemirror_mode": {
    "name": "ipython",
    "version": 3
   },
   "file_extension": ".py",
   "mimetype": "text/x-python",
   "name": "python",
   "nbconvert_exporter": "python",
   "pygments_lexer": "ipython3",
   "version": "3.6.2"
  }
 },
 "nbformat": 4,
 "nbformat_minor": 2
}
