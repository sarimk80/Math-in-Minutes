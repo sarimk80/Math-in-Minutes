{
 "cells": [
  {
   "cell_type": "markdown",
   "metadata": {},
   "source": [
    "# Taylor Series #"
   ]
  },
  {
   "cell_type": "code",
   "execution_count": 16,
   "metadata": {},
   "outputs": [
    {
     "name": "stdout",
     "output_type": "stream",
     "text": [
      "   3    \n",
      "  x     \n",
      "- ── + x\n",
      "  6     \n"
     ]
    },
    {
     "data": {
      "text/html": [
       "<iframe id=\"igraph\" scrolling=\"no\" style=\"border:none;\" seamless=\"seamless\" src=\"https://plot.ly/~sarimk80/41.embed\" height=\"525px\" width=\"100%\"></iframe>"
      ],
      "text/plain": [
       "<plotly.tools.PlotlyDisplay object>"
      ]
     },
     "execution_count": 16,
     "metadata": {},
     "output_type": "execute_result"
    }
   ],
   "source": [
    "from mpmath import *\n",
    "from sympy import *\n",
    "import plotly.plotly as py #Import plotly as py\n",
    "import plotly.graph_objs as go #Import plotly graph as g0\n",
    "from plotly.offline import download_plotlyjs, init_notebook_mode, plot, iplot #So we can use plotly library offline\n",
    "\n",
    "\n",
    "x_axis_sin = []\n",
    "y_axis_sin = []\n",
    "\n",
    "x_axis_taylor = []\n",
    "y_axis_taylor =[]\n",
    "\n",
    "x = Symbol('x')\n",
    "\n",
    "f = Function('f')(x)\n",
    "\n",
    "#x_axis_taylor.append(chop(taylor(sin,0,5)))\n",
    "#print(x_axis_taylor[0])\n",
    "\n",
    "'''\n",
    "    Using the sympy series function to expand the sin(x) function to nth time which is 5 and the origin\n",
    "    is 0 you can change the nth term and origin to see the difference in graph\n",
    "\n",
    "'''\n",
    "\n",
    "f = series(sin(x),x,x0=0,n=5).removeO() \n",
    "pprint(f) # Displaying the series\n",
    "\n",
    "y = lambdify(x,f)\n",
    "\n",
    "for i in range(-6,6):\n",
    "    x_axis_taylor.append(i)\n",
    "    y_axis_taylor.append(y(i))\n",
    "    _sin = float(sin(i))\n",
    "    y_axis_sin.append(_sin)\n",
    "    x_axis_sin.append(i)\n",
    "\n",
    "    \n",
    "trace=go.Scatter(x=x_axis_taylor,y=y_axis_taylor,name='Taylor Series')\n",
    "trace1=go.Scatter(x=x_axis_sin,y=y_axis_sin,name='Sin')\n",
    "\n",
    "    \n",
    "data=[trace,trace1] # Storing the data from trace in data variable\n",
    "\n",
    "py.iplot(data,filename='Taylor Series') # py.iplot take data variable as input \n",
    " \n",
    "\n",
    "\n",
    "    \n",
    "\n",
    "\n",
    "\n",
    "\n",
    "\n"
   ]
  },
  {
   "cell_type": "markdown",
   "metadata": {},
   "source": [
    "# Fourier series #"
   ]
  },
  {
   "cell_type": "code",
   "execution_count": 40,
   "metadata": {},
   "outputs": [
    {
     "name": "stdout",
     "output_type": "stream",
     "text": [
      "                           3      \n",
      "                        2⋅π       \n",
      "                      - ──── + 2⋅π\n",
      "                         3        \n",
      "4⋅cos(x) - cos(2⋅x) + ────────────\n",
      "                          2⋅π     \n",
      "0.28748792632324927\n"
     ]
    },
    {
     "data": {
      "text/html": [
       "<iframe id=\"igraph\" scrolling=\"no\" style=\"border:none;\" seamless=\"seamless\" src=\"https://plot.ly/~sarimk80/43.embed\" height=\"525px\" width=\"100%\"></iframe>"
      ],
      "text/plain": [
       "<plotly.tools.PlotlyDisplay object>"
      ]
     },
     "execution_count": 40,
     "metadata": {},
     "output_type": "execute_result"
    }
   ],
   "source": [
    "from sympy import *\n",
    "import plotly.plotly as py #Import plotly as py\n",
    "import plotly.graph_objs as go #Import plotly graph as g0\n",
    "from plotly.offline import download_plotlyjs, init_notebook_mode, plot, iplot #So we can use plotly library offline\n",
    "\n",
    "x_axis = []\n",
    "y_axis =[]\n",
    "\n",
    "'''\n",
    "    The sympy function fourier_series takes a function (1-x^2) and limits(-pi to pi)\n",
    "'''\n",
    "\n",
    "s = fourier_series(1-x**2, (x, -pi, pi)).truncate()\n",
    "\n",
    "pprint(s)\n",
    "\n",
    "y=lambdify(x,s)\n",
    "\n",
    "\n",
    "for i in range(-10,10):\n",
    "    x_axis.append(i)\n",
    "    y_axis.append(y(i))\n",
    "    \n",
    "\n",
    "trace=go.Scatter(x=x_axis,y=y_axis,name='Fourier Series')\n",
    "    \n",
    "data=[trace] # Storing the data from trace in data variable\n",
    "\n",
    "py.iplot(data,filename='Fourier Series') # py.iplot take data variable as input \n",
    " "
   ]
  }
 ],
 "metadata": {
  "kernelspec": {
   "display_name": "Python 3",
   "language": "python",
   "name": "python3"
  },
  "language_info": {
   "codemirror_mode": {
    "name": "ipython",
    "version": 3
   },
   "file_extension": ".py",
   "mimetype": "text/x-python",
   "name": "python",
   "nbconvert_exporter": "python",
   "pygments_lexer": "ipython3",
   "version": "3.6.2"
  }
 },
 "nbformat": 4,
 "nbformat_minor": 2
}
