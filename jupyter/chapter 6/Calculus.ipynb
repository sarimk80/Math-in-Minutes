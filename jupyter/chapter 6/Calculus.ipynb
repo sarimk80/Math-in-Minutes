{
 "cells": [
  {
   "cell_type": "markdown",
   "metadata": {},
   "source": [
    "# Calculus #\n",
    "    Calculus is the mathematical study of continuous change , it has two main components differential \n",
    "    and integration."
   ]
  },
  {
   "cell_type": "markdown",
   "metadata": {},
   "source": [
    "# Differentiation #\n",
    "\n",
    "                It deals with the stude of rate at which the quantity changes.\n",
    "                \n",
    "                example the derivate of f(x) = x^3 is 3(x^2)\n",
    "                \n",
    "                It is about calculating the slope or the rate of change."
   ]
  },
  {
   "cell_type": "code",
   "execution_count": 12,
   "metadata": {},
   "outputs": [
    {
     "name": "stdout",
     "output_type": "stream",
     "text": [
      "2*x\n"
     ]
    },
    {
     "data": {
      "text/html": [
       "<iframe id=\"igraph\" scrolling=\"no\" style=\"border:none;\" seamless=\"seamless\" src=\"https://plot.ly/~sarimk80/35.embed\" height=\"525px\" width=\"100%\"></iframe>"
      ],
      "text/plain": [
       "<plotly.tools.PlotlyDisplay object>"
      ]
     },
     "execution_count": 12,
     "metadata": {},
     "output_type": "execute_result"
    }
   ],
   "source": [
    "from sympy import *\n",
    "import plotly.plotly as py #Import plotly as py\n",
    "import plotly.graph_objs as go #Import plotly graph as g0\n",
    "from plotly.offline import download_plotlyjs, init_notebook_mode, plot, iplot #So we can use plotly library offline\n",
    "\n",
    "x_axis=[]\n",
    "y_axis=[]\n",
    "\n",
    "x, y, z = symbols('x y z') # Defining variable \n",
    "\n",
    "f=Function('f')(x) # Defining functions\n",
    "\n",
    "f = diff(x**2) ## diff function will take the derivate of any given function\n",
    "\n",
    "print(f)\n",
    "\n",
    "'''\n",
    "    The derivative of x^2 is 2x this means that the for the function x^2 the slope at any given point \n",
    "    is 2x\n",
    "    \n",
    "    f'(x) = 2x\n",
    "    \n",
    "    if x = 1 then  f'(1) = 2\n",
    "    if x = 2 then  f'(2) = 4\n",
    "    if x = 3 then  f'(3) = 6\n",
    "    if x = 4 then  f'(4) = 8\n",
    "    \n",
    "    at point 1 the slope is 2\n",
    "    at point 3 the slope is 6\n",
    "    \n",
    "'''\n",
    "\n",
    "y = lambdify(x,f) # lambdify is sympy function \n",
    "\n",
    "for i in range (0,5):\n",
    "    x_axis.append(i)\n",
    "    y_axis.append(y(i))\n",
    "\n",
    "\n",
    "'''\n",
    "     Defining the x and y coordinates of the graph , as you can see the x and y value as the same\n",
    "'''\n",
    "trace=go.Scatter(x=x_axis,y=y_axis,name='derivative')\n",
    "\n",
    "    \n",
    "data=[trace] # Storing the data from trace in data variable\n",
    "\n",
    "py.iplot(data,filename='deriv') # py.iplot take data variable as input \n",
    " "
   ]
  },
  {
   "cell_type": "markdown",
   "metadata": {},
   "source": [
    "# Derivative Rules #"
   ]
  },
  {
   "cell_type": "code",
   "execution_count": 29,
   "metadata": {},
   "outputs": [
    {
     "name": "stdout",
     "output_type": "stream",
     "text": [
      "The Derivative of any constant is : 0 \n",
      "\n",
      "The Derivative of a line is : 5 \n",
      "\n",
      "The Derivative of e^x is : exp(x) \n",
      "\n",
      "The Derivative of ln(x) or log(x) is : 1/x \n",
      "\n",
      "The Derivative of sin is : cos(x) \n",
      "\n",
      "The Derivative of cos is : -sin(x) \n",
      "\n",
      "The Derivative of tan  is : tan(x)**2 + 1 \n",
      "\n",
      "The Derivative of inverse sin is : 1/sqrt(-x**2 + 1) \n",
      "\n",
      "The Derivative of inverse cos is : -1/sqrt(-x**2 + 1) \n",
      "\n",
      "The Derivative of inverse tan  is : 1/(x**2 + 1) \n",
      "\n",
      "The Derivative of product is : 2**x*log(2)*sin(x) + 2**x*cos(x) \n",
      "\n",
      "The Derivative of Divide  is : 2**x*log(2)/x**2 - 2*2**x/x**3 \n",
      "\n"
     ]
    }
   ],
   "source": [
    "from sympy import *\n",
    "\n",
    "x, y, z = symbols('x y z')\n",
    "\n",
    "f=Function('f')(x) # Defining functions\n",
    "\n",
    "\n",
    "# Constant\n",
    "f = diff(1)\n",
    "print('The Derivative of any constant is :',f,'\\n')\n",
    "\n",
    "# Line\n",
    "f = diff(5 * x + 2 , x)\n",
    "print('The Derivative of a line is :',f,'\\n')\n",
    "\n",
    "# e^2\n",
    "f = diff(exp(x) , x)\n",
    "print('The Derivative of e^x is :',f,'\\n')\n",
    "\n",
    "# ln(x)\n",
    "f = diff(log(x) , x)\n",
    "print('The Derivative of ln(x) or log(x) is :',f,'\\n')\n",
    "\n",
    "# sin(x)\n",
    "f = diff(sin(x) , x)\n",
    "print('The Derivative of sin is :',f,'\\n')\n",
    "\n",
    "#cos(x)\n",
    "f = diff(cos(x) , x)\n",
    "print('The Derivative of cos is :',f,'\\n')\n",
    "\n",
    "# tan(x)\n",
    "f = diff(tan(x) , x)\n",
    "print('The Derivative of tan  is :',f,'\\n') # 1 + tan(x)^2 = sec(x)^2\n",
    "\n",
    "# asin(x)\n",
    "f = diff(asin(x) , x)\n",
    "print('The Derivative of inverse sin is :',f,'\\n')\n",
    "\n",
    "\n",
    "# acos(x)\n",
    "f = diff(acos(x) , x)\n",
    "print('The Derivative of inverse cos is :',f,'\\n')\n",
    "\n",
    "\n",
    "# atan(x)\n",
    "f = diff(atan(x) , x)\n",
    "print('The Derivative of inverse tan  is :',f,'\\n') \n",
    "\n",
    "\n",
    "# Product\n",
    "f = diff(2**x * sin(x) , x)\n",
    "print('The Derivative of product is :',f,'\\n')\n",
    "\n",
    "\n",
    "# Divide\n",
    "f = diff(2**x/x**2 , x)\n",
    "print('The Derivative of Divide  is :',f,'\\n') \n",
    "\n",
    "\n",
    "\n"
   ]
  },
  {
   "cell_type": "code",
   "execution_count": 5,
   "metadata": {
    "scrolled": false
   },
   "outputs": [
    {
     "name": "stdout",
     "output_type": "stream",
     "text": [
      "2*x*sin(x)*cos(x) + sin(x)**2\n",
      "1.617370845099253\n"
     ]
    },
    {
     "data": {
      "text/html": [
       "<iframe id=\"igraph\" scrolling=\"no\" style=\"border:none;\" seamless=\"seamless\" src=\"https://plot.ly/~sarimk80/18.embed\" height=\"525px\" width=\"100%\"></iframe>"
      ],
      "text/plain": [
       "<plotly.tools.PlotlyDisplay object>"
      ]
     },
     "execution_count": 5,
     "metadata": {},
     "output_type": "execute_result"
    }
   ],
   "source": [
    "from sympy import *\n",
    "import plotly.plotly as py #Import plotly as py\n",
    "import plotly.graph_objs as go #Import plotly graph as g0\n",
    "from plotly.offline import download_plotlyjs, init_notebook_mode, plot, iplot #So we can use plotly library offline\n",
    "\n",
    "init_printing(use_unicode=False, wrap_line=False)\n",
    "\n",
    "x_axis=[]\n",
    "y_axis=[]\n",
    "\n",
    "\n",
    "x, y, z = symbols('x y z')\n",
    "\n",
    "f=Function('f')(x) # Defining functions\n",
    "\n",
    "'''\n",
    "    The derivative of x (sin(x)^2) + 1 is sin(x)^2 + 2 x sin(x) cos(x)\n",
    "    \n",
    "     f'(x) = 2x sin(x) cos(x) + sin(x)^2\n",
    "     \n",
    "     f'(1) = 2(1) sin(1) cos(1) + sin(1)^2 = 1.61737\n",
    "     \n",
    "     f'(2) = 2(2) sin(2) cos(2) + sin(2)^2 = -0.68678\n",
    "     \n",
    "     So the slope of function  x (sin(x)^2) + 1 at:\n",
    "     x = 1 is 1.61737\n",
    "\n",
    "'''\n",
    "\n",
    "f=diff(x*sin(x)**2+1,x) # Taking derivative\n",
    "\n",
    "print(f)\n",
    "\n",
    "y=lambdify(x,f)\n",
    "\n",
    "print(y(1))\n",
    "\n",
    "for i in range(-100,100):\n",
    "    x_axis.append(i)\n",
    "    y_axis.append(y(i))\n",
    "    \n",
    "    \n",
    "    \n",
    "    \n",
    "trace=go.Scatter(x=x_axis,y=y_axis,name='Parabola')# Defining the x and y coordinates of the graph , as you can see the x and y \n",
    "                                            # value as the same\n",
    "    \n",
    "data=[trace] # Storing the data from trace in data variable\n",
    "\n",
    "py.iplot(data,filename='Exponential_Function') # py.iplot take data variable as input \n",
    " \n",
    " \n",
    " \n",
    "\n",
    "\n",
    "\n",
    "       "
   ]
  },
  {
   "cell_type": "markdown",
   "metadata": {},
   "source": [
    "# Integration #\n",
    "\n",
    "            Integration is define as finding the area under the graph.The operation of integration, \n",
    "            up to an additive constant, is the inverse of the operation of differentiation. \n",
    "            For this reason, the term integral may also refer to the related notion of the antiderivative.\n",
    "            \n",
    "            for example x^2:\n",
    "            \n",
    "            The intregal of x^w is x^3/3 +c\n",
    "            "
   ]
  },
  {
   "cell_type": "code",
   "execution_count": 15,
   "metadata": {},
   "outputs": [
    {
     "name": "stdout",
     "output_type": "stream",
     "text": [
      "x**3/3 \n",
      "\n",
      "0.3333333333333333\n"
     ]
    }
   ],
   "source": [
    "from sympy import *\n",
    "\n",
    "init_printing(use_unicode=False, wrap_line=False)\n",
    "\n",
    "x, y, z = symbols('x y z')\n",
    "\n",
    "f=Function('f')(x)\n",
    "\n",
    "f=integrate(x**2, x)\n",
    "\n",
    "f\n",
    "\n"
   ]
  },
  {
   "cell_type": "code",
   "execution_count": 22,
   "metadata": {},
   "outputs": [
    {
     "name": "stdout",
     "output_type": "stream",
     "text": [
      "x**3/3\n"
     ]
    },
    {
     "data": {
      "text/html": [
       "<iframe id=\"igraph\" scrolling=\"no\" style=\"border:none;\" seamless=\"seamless\" src=\"https://plot.ly/~sarimk80/37.embed\" height=\"525px\" width=\"100%\"></iframe>"
      ],
      "text/plain": [
       "<plotly.tools.PlotlyDisplay object>"
      ]
     },
     "execution_count": 22,
     "metadata": {},
     "output_type": "execute_result"
    }
   ],
   "source": [
    "from sympy import *\n",
    "import plotly.plotly as py #Import plotly as py\n",
    "import plotly.graph_objs as go #Import plotly graph as g0\n",
    "from plotly.offline import download_plotlyjs, init_notebook_mode, plot, iplot #So we can use plotly library offline\n",
    "\n",
    "init_printing(use_unicode=False, wrap_line=False)\n",
    "\n",
    "x_axis=[]\n",
    "y_axis=[]\n",
    "\n",
    "x, y, z = symbols('x y z')\n",
    "\n",
    "f=integrate(x**2, x)\n",
    "\n",
    "print(f)\n",
    "\n",
    "y = lambdify(x,f)\n",
    "\n",
    "for i in range(-10,10):\n",
    "    x_axis.append(i)\n",
    "    y_axis.append(y(i))\n",
    "\n",
    "\n",
    "trace=go.Scatter(x=x_axis,y=y_axis,name='Intregal')# Defining the x and y coordinates of the graph , as you can see the x and y \n",
    "                                            # value as the same\n",
    "    \n",
    "data=[trace] # Storing the data from trace in data variable\n",
    "\n",
    "py.iplot(data,filename='Intregal_Function') # py.iplot take data variable as input \n",
    " "
   ]
  },
  {
   "cell_type": "markdown",
   "metadata": {},
   "source": [
    "# Limits #"
   ]
  },
  {
   "cell_type": "code",
   "execution_count": 33,
   "metadata": {},
   "outputs": [
    {
     "name": "stdout",
     "output_type": "stream",
     "text": [
      "Area when the limits are from -10 to 10 : 2000/3 \n",
      "\n",
      "Area when the limits are from 0 to oo(infinity) : oo \n",
      "\n",
      "Area when the limits are from -oo to oo : oo \n",
      "\n"
     ]
    }
   ],
   "source": [
    "from sympy import *\n",
    "import plotly.plotly as py #Import plotly as py\n",
    "import plotly.graph_objs as go #Import plotly graph as g0\n",
    "from plotly.offline import download_plotlyjs, init_notebook_mode, plot, iplot #So we can use plotly library offline\n",
    "\n",
    "init_printing(use_unicode=False, wrap_line=False)\n",
    "\n",
    "x_axis=[]\n",
    "y_axis=[]\n",
    "\n",
    "x, y, z = symbols('x y z')\n",
    "\n",
    "f=integrate(x**2,(x,-10,10))\n",
    "\n",
    "print('Area when the limits are from -10 to 10 :',f,'\\n')\n",
    "\n",
    "\n",
    "f=integrate(x**2,(x,0,oo))\n",
    "\n",
    "print('Area when the limits are from 0 to oo(infinity) :',f,'\\n')\n",
    "\n",
    "\n",
    "f=integrate(x**2,(x,-oo,oo))\n",
    "\n",
    "print('Area when the limits are from -oo to oo :',f,'\\n')\n",
    "\n",
    " "
   ]
  },
  {
   "cell_type": "markdown",
   "metadata": {},
   "source": [
    "# Intregal Rules #"
   ]
  },
  {
   "cell_type": "code",
   "execution_count": 55,
   "metadata": {},
   "outputs": [
    {
     "name": "stdout",
     "output_type": "stream",
     "text": [
      "The intregal of Constant is : 2*x \n",
      "\n",
      "The intregal of Line is : 5*x**2 + 2*x \n",
      "\n",
      "The Itregal of e^x is : exp(x) \n",
      "\n",
      "The Intregal of ln(x) or log(x) is : x*log(x) - x \n",
      "\n",
      "The Intregal of sin is : -cos(x) \n",
      "\n",
      "The Intregal of cos is : sin(x) \n",
      "\n",
      "The Intregal of tan  is : -log(sin(x)**2 - 1)/2 \n",
      "\n",
      "The intregal of inverse sin is : x*asin(x) + sqrt(-x**2 + 1) \n",
      "\n",
      "The intregal of inverse cos is : x*acos(x) - sqrt(-x**2 + 1) \n",
      "\n",
      "The intregal of inverse tan  is : x*atan(x) - log(x**2 + 1)/2 \n",
      "\n",
      "The Intregal of product is : 1024*log(2)*sin(10)/(log(2)**2 + 1) + 1/(log(2)**2 + 1) - 1024*cos(10)/(log(2)**2 + 1) \n",
      "\n",
      "The intregal of Divide  is : Integral(2**x/x**2, x) \n",
      "\n"
     ]
    }
   ],
   "source": [
    "from sympy import *\n",
    "\n",
    "init_printing(use_unicode=False, wrap_line=False)\n",
    "\n",
    "\n",
    "x, y, z = symbols('x y z')\n",
    "\n",
    "f =Function('f')(x)\n",
    "\n",
    "f = integrate(2,x)\n",
    "\n",
    "\n",
    "print('The intregal of Constant is :' , f,'\\n')\n",
    "\n",
    "\n",
    "f = integrate(10*x+2,x)\n",
    "\n",
    "\n",
    "print('The intregal of Line is :' , f,'\\n')\n",
    "\n",
    "\n",
    "# e^2\n",
    "f = integrate(exp(x) , x)\n",
    "print('The Itregal of e^x is :',f,'\\n')\n",
    "\n",
    "# ln(x)\n",
    "f = integrate(log(x) , x)\n",
    "print('The Intregal of ln(x) or log(x) is :',f,'\\n')\n",
    "\n",
    "# sin(x)\n",
    "f = integrate(sin(x) , x)\n",
    "print('The Intregal of sin is :',f,'\\n')\n",
    "\n",
    "#cos(x)\n",
    "f = integrate(cos(x) , x)\n",
    "print('The Intregal of cos is :',f,'\\n')\n",
    "\n",
    "# tan(x)\n",
    "f = integrate(tan(x) , x)\n",
    "print('The Intregal of tan  is :',f,'\\n') # 1 + tan(x)^2 = sec(x)^2\n",
    "\n",
    "# asin(x)\n",
    "f = integrate(asin(x) , (x,-10,10))\n",
    "print('The intregal of inverse sin is :',f,'\\n')\n",
    "\n",
    "\n",
    "# acos(x)\n",
    "f = integrate(acos(x) , x)\n",
    "print('The intregal of inverse cos is :',f,'\\n')\n",
    "\n",
    "\n",
    "# atan(x)\n",
    "f = integrate(atan(x) , x)\n",
    "print('The intregal of inverse tan  is :',f,'\\n') \n",
    "\n",
    "\n",
    "# Product\n",
    "f = integrate(2**x * sin(x) , (x,0,10))\n",
    "print('The Intregal of product is :',f,'\\n')\n",
    "\n",
    "\n",
    "# Divide\n",
    "f = integrate(2**x/x**2 , x)\n",
    "print('The intregal of Divide  is :',f,'\\n') \n",
    "\n",
    "\n"
   ]
  },
  {
   "cell_type": "code",
   "execution_count": 61,
   "metadata": {},
   "outputs": [
    {
     "name": "stdout",
     "output_type": "stream",
     "text": [
      "x**2*sin(x) + 2*x*cos(x) - 2*sin(x) - 2*cos(x)\n",
      "196*sin(10) + 40*cos(10)\n"
     ]
    },
    {
     "data": {
      "text/html": [
       "<iframe id=\"igraph\" scrolling=\"no\" style=\"border:none;\" seamless=\"seamless\" src=\"https://plot.ly/~sarimk80/37.embed\" height=\"525px\" width=\"100%\"></iframe>"
      ],
      "text/plain": [
       "<plotly.tools.PlotlyDisplay object>"
      ]
     },
     "execution_count": 61,
     "metadata": {},
     "output_type": "execute_result"
    }
   ],
   "source": [
    "from sympy import *\n",
    "import plotly.plotly as py #Import plotly as py\n",
    "import plotly.graph_objs as go #Import plotly graph as g0\n",
    "from plotly.offline import download_plotlyjs, init_notebook_mode, plot, iplot #So we can use plotly library offline\n",
    "\n",
    "init_printing(use_unicode=False, wrap_line=False)\n",
    "\n",
    "x_axis=[]\n",
    "y_axis=[]\n",
    "\n",
    "x, y, z = symbols('x y z')\n",
    "\n",
    "f=integrate(2*sin(x)+x**2*cos(x), x)\n",
    "\n",
    "print(f)\n",
    "\n",
    "g=integrate(2*sin(x)+x**2*cos(x), (x,-10,10))\n",
    "\n",
    "print(g)\n",
    "\n",
    "y = lambdify(x,f)\n",
    "\n",
    "for i in range(-10,10):\n",
    "    x_axis.append(i)\n",
    "    y_axis.append(y(i))\n",
    "\n",
    "\n",
    "trace=go.Scatter(x=x_axis,y=y_axis,name='Intregal')# Defining the x and y coordinates of the graph , as you can see the x and y \n",
    "                                            # value as the same\n",
    "    \n",
    "data=[trace] # Storing the data from trace in data variable\n",
    "\n",
    "py.iplot(data,filename='Intregal_Function') # py.iplot take data variable as input \n",
    " "
   ]
  }
 ],
 "metadata": {
  "kernelspec": {
   "display_name": "Python 3",
   "language": "python",
   "name": "python3"
  },
  "language_info": {
   "codemirror_mode": {
    "name": "ipython",
    "version": 3
   },
   "file_extension": ".py",
   "mimetype": "text/x-python",
   "name": "python",
   "nbconvert_exporter": "python",
   "pygments_lexer": "ipython3",
   "version": "3.6.2"
  }
 },
 "nbformat": 4,
 "nbformat_minor": 2
}
