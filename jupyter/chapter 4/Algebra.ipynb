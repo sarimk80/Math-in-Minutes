{
 "cells": [
  {
   "cell_type": "markdown",
   "metadata": {},
   "source": [
    "# Algebra #\n",
    "\n",
    "        Algebra is the study of mathematical symbols and the rules for manipulating these symbols.Elementary \n",
    "        algebra is the art of manipulating mathematical expressions, with quantities represented by symbols, \n",
    "        while abstract algebra is the theory of mathematical structures such as groups.The more basic parts \n",
    "        of algebra are called elementary algebra; the more abstract parts are called abstract algebra or \n",
    "        modern algebra.\n",
    "        \n",
    "        Example : x +10 = -5\n",
    "                  x = -5 -10\n",
    "                  x = -15"
   ]
  },
  {
   "cell_type": "code",
   "execution_count": 10,
   "metadata": {},
   "outputs": [
    {
     "name": "stdout",
     "output_type": "stream",
     "text": [
      "[-15]\n",
      "[150/11]\n",
      "[-sqrt(3), sqrt(3)]\n"
     ]
    }
   ],
   "source": [
    "from sympy import *\n",
    "\n",
    "x=Symbol('x') # Initializing Variable X\n",
    "y=Symbol('y') # Initializing Variable Y\n",
    "\n",
    "print(solve(x + 10 + 5, x ),'\\n')\n",
    "print(solve (x + 10*x -150 , x),'\\n')\n",
    "print(solve(x**2 - 3 , x),'\\n')"
   ]
  },
  {
   "cell_type": "markdown",
   "metadata": {},
   "source": [
    "# Simultaneous equations #\n",
    "\n",
    "            Those equations which contain serval unkowns are call Simultaneous equations.\n",
    "            For example : 2x + 3y = 10\n",
    "                          x  -  y = 12 (Multiplying this equation by 3 and Adding  equation 1  and equation 2 )\n",
    "                          5x = 10 + 3(12)\n",
    "                          5x = 10 + 36\n",
    "                          5x = 46\n",
    "                          x = 46/5\n",
    "                          \n",
    "                          46/5 - y = 12\n",
    "                          46/5 - 12 = y\n",
    "                          y = -14/5\n",
    "                          \n",
    "                          "
   ]
  },
  {
   "cell_type": "code",
   "execution_count": 13,
   "metadata": {},
   "outputs": [
    {
     "name": "stdout",
     "output_type": "stream",
     "text": [
      "{x: 46/5, y: -14/5}\n",
      "[(3/16 + sqrt(137)/16, -41/32 - 3*sqrt(137)/32), (-sqrt(137)/16 + 3/16, -41/32 + 3*sqrt(137)/32)]\n"
     ]
    }
   ],
   "source": [
    "from sympy import *\n",
    "\n",
    "x=Symbol('x') # Initializing Variable X\n",
    "y=Symbol('y') # Initializing Variable Y\n",
    "\n",
    "print(solve([2*x + 3*y -10 ,x - y -12],[x , y]),'\\n')\n",
    "\n",
    "print(solve([4*x**2 + y - 1, 3*x + 2*y +2],[x , y]))"
   ]
  },
  {
   "cell_type": "markdown",
   "metadata": {},
   "source": [
    "# Equations and graphs #\n",
    "\n",
    "            Plotting the graph from the equation help us determine the relation between two equation or vaiables\n",
    "            for example the equation of the straight line is y = 5x + 8 or the equation of parabola is y = x^2"
   ]
  },
  {
   "cell_type": "code",
   "execution_count": 1,
   "metadata": {},
   "outputs": [
    {
     "name": "stdout",
     "output_type": "stream",
     "text": [
      "X-axis  [0, 1, 2, 3, 4, 5, 6, 7, 8, 9, 10, 11, 12, 13, 14] Y-axis  [8, 13, 18, 23, 28, 33, 38, 43, 48, 53, 58, 63, 68, 73, 78]\n"
     ]
    },
    {
     "data": {
      "image/png": "[encoded data removed]",
      "text/plain": [
       "<matplotlib.figure.Figure at 0x7ffb84a2ee80>"
      ]
     },
     "metadata": {},
     "output_type": "display_data"
    }
   ],
   "source": [
    "import matplotlib.pyplot as plt\n",
    "\n",
    "Line_X = []\n",
    "Line_Y = []\n",
    "\n",
    "for x in range(0 , 15):\n",
    "    y = 5*x +8\n",
    "    Line_X.append(x)\n",
    "    Line_Y.append(y)\n",
    "    \n",
    "\n",
    "print('X-axis ',Line_X , 'Y-axis ',Line_Y)\n",
    "plt.plot(Line_X,Line_Y)\n",
    "plt.show()\n",
    "    \n"
   ]
  },
  {
   "cell_type": "code",
   "execution_count": 3,
   "metadata": {},
   "outputs": [
    {
     "name": "stdout",
     "output_type": "stream",
     "text": [
      "X value  [-10, -9, -8, -7, -6, -5, -4, -3, -2, -1, 0, 1, 2, 3, 4, 5, 6, 7, 8, 9] Y value  [110, 91, 74, 59, 46, 35, 26, 19, 14, 11, 10, 11, 14, 19, 26, 35, 46, 59, 74, 91]\n"
     ]
    },
    {
     "data": {
      "image/png": "[encoded data removed]",
      "text/plain": [
       "<matplotlib.figure.Figure at 0x7ffb5e835320>"
      ]
     },
     "metadata": {},
     "output_type": "display_data"
    },
    {
     "data": {
      "text/html": [
       "<iframe id=\"igraph\" scrolling=\"no\" style=\"border:none;\" seamless=\"seamless\" src=\"https://plot.ly/~sarimk80/2.embed\" height=\"525px\" width=\"100%\"></iframe>"
      ],
      "text/plain": [
       "<plotly.tools.PlotlyDisplay object>"
      ]
     },
     "execution_count": 3,
     "metadata": {},
     "output_type": "execute_result"
    }
   ],
   "source": [
    "import matplotlib.pyplot as plt\n",
    "\n",
    "import plotly.plotly as py #Import plotly as py\n",
    "import plotly.graph_objs as go #Import plotly graph as g0\n",
    "from plotly.offline import download_plotlyjs, init_notebook_mode, plot, iplot #So we can use plotly library offline\n",
    "\n",
    "Parabola_X = []\n",
    "Parabola_Y = []\n",
    "\n",
    "for x in range(-10 , 10):\n",
    "    y = x**2 + 10\n",
    "    Parabola_X.append(x)\n",
    "    Parabola_Y.append(y)\n",
    "    \n",
    "print('X value ',Parabola_X , 'Y value ',Parabola_Y)\n",
    "plt.plot(Parabola_X , Parabola_Y)\n",
    "plt.show()\n",
    "\n",
    "trace=go.Scatter(x=Parabola_X,y=Parabola_Y)# Defining the x and y coordinates of the graph , as you can see the x and y \n",
    "                                            # value as the same\n",
    "    \n",
    "data=[trace] # Storing the data from trace in data variable\n",
    "\n",
    "py.iplot(data,filename='Prabola') # py.iplot take data variable as input \n",
    "    \n",
    "    "
   ]
  },
  {
   "cell_type": "code",
   "execution_count": 56,
   "metadata": {},
   "outputs": [
    {
     "data": {
      "text/html": [
       "<iframe id=\"igraph\" scrolling=\"no\" style=\"border:none;\" seamless=\"seamless\" src=\"https://plot.ly/~sarimk80/8.embed\" height=\"525px\" width=\"100%\"></iframe>"
      ],
      "text/plain": [
       "<plotly.tools.PlotlyDisplay object>"
      ]
     },
     "execution_count": 56,
     "metadata": {},
     "output_type": "execute_result"
    }
   ],
   "source": [
    "import plotly.plotly as py #Import plotly as py\n",
    "import plotly.graph_objs as go #Import plotly graph as g0\n",
    "from plotly.offline import download_plotlyjs, init_notebook_mode, plot, iplot #So we can use plotly library offline\n",
    "\n",
    "Line_X = []\n",
    "Line_Y = []\n",
    "\n",
    "Parabola_X = []\n",
    "Parabola_Y = []\n",
    "\n",
    "for x in range(-10 , 10):\n",
    "    \n",
    "    y = x**2 + 10\n",
    "    Parabola_X.append(x)\n",
    "    Parabola_Y.append(y)\n",
    "    \n",
    "for x in range(0 , 15):\n",
    "    y = 5*x +8\n",
    "    Line_X.append(x)\n",
    "    Line_Y.append(y)\n",
    "\n",
    "trace1=go.Scatter(x=Line_X,y=Line_Y,name='Line_Graph')\n",
    "\n",
    "trace2=go.Scatter(x=Parabola_X,y=Parabola_Y,name='Parabola')# Defining the x and y coordinates of the graph , as you can see the x and y \n",
    "                                            # value as the same\n",
    "    \n",
    "data=[trace1,trace2] # Storing the data from trace in data variable\n",
    "\n",
    "py.iplot(data,filename='parabola_line') # py.iplot take data variable as input \n",
    "    \n"
   ]
  },
  {
   "cell_type": "markdown",
   "metadata": {},
   "source": [
    "# Equation of Plane #\n",
    "            The equation of a plane is the three-dimensional generalization of the equation of a line.\n",
    "            A plane in 3-space has the equation\n",
    "            \n",
    "            a (x - xo) + b (y - yo) + c (z - zo) = d,\n",
    "            \n",
    "            where at least one of the numbers a, b, c must be nonzero.\n",
    "            "
   ]
  },
  {
   "cell_type": "code",
   "execution_count": 72,
   "metadata": {
    "scrolled": false
   },
   "outputs": [
    {
     "name": "stdout",
     "output_type": "stream",
     "text": [
      "[{x: -41*y/12 + 5*z/4 + 197/12}]\n"
     ]
    },
    {
     "data": {
      "text/html": [
       "<iframe id=\"igraph\" scrolling=\"no\" style=\"border:none;\" seamless=\"seamless\" src=\"https://plot.ly/~sarimk80/4.embed\" height=\"525px\" width=\"100%\"></iframe>"
      ],
      "text/plain": [
       "<plotly.tools.PlotlyDisplay object>"
      ]
     },
     "execution_count": 72,
     "metadata": {},
     "output_type": "execute_result"
    }
   ],
   "source": [
    "from sympy import *\n",
    "import plotly.plotly as py #Import plotly as py\n",
    "import plotly.graph_objs as go #Import plotly graph as g0\n",
    "from plotly.offline import download_plotlyjs, init_notebook_mode, plot, iplot #So we can use plotly library offline\n",
    "\n",
    "x = Symbol('x') # Initializing Symbol x\n",
    "y = Symbol('y') # Initializing Symbol y\n",
    "z = Symbol('z') # Initializing Symbol z\n",
    "\n",
    "\n",
    "##Out three point of the plane\n",
    "\n",
    "P = [3,1,-8] \n",
    "Q = [4,4,1]\n",
    "R = [-5,7,2]\n",
    "\n",
    "\n",
    "\n",
    "Matrix_P = Matrix(P) # Converting Array P to Matrix P\n",
    "Matrix_Q = Matrix(Q) # Converting Array Q to Matrix Q\n",
    "Matrix_R = Matrix(R) # Converting Array R to Matrix R\n",
    "\n",
    "'''\n",
    "    TO get the matrix PQ we will subtract matrix Q from matrix P\n",
    "    and to get matrix PR we will subtract matrix R from matrix P\n",
    "'''\n",
    "\n",
    "Matrix_Q_minus_Matrix_P = Matrix_Q - Matrix_P # Subtracting matrix Q from matrix P\n",
    "\n",
    "Matrix_R_minus_Matrix_P = Matrix_R - Matrix_P # Subtracting matrix R from matrix P\n",
    "\n",
    "'''\n",
    "    TO get the normal vector of martix PQ and martix PR we will take the cross product\n",
    "'''\n",
    "\n",
    "Matrix_PQ_Cross_PR = Matrix_Q_minus_Matrix_P.cross(Matrix_R_minus_Matrix_P) \n",
    "\n",
    "'''\n",
    "    The equation of the plane is a(x-xo) + b(y-yo) + c(z-zo) = 0\n",
    "    \n",
    "    for the (a) term we will put the first value of the cross product of Matrix PR * Matrix PR\n",
    "    \n",
    "    for the (b) term we will put the second value of the cross product of Matrix PR * Matrix PR\n",
    "    \n",
    "    for the (c) term we will put the third value of the cross product of Matrix PR * Matrix PR\n",
    "    \n",
    "    and for the xo , yo and zo value we can choose any vector P or Q or R\n",
    "'''\n",
    "\n",
    "\n",
    "print(solve(Matrix_PQ_Cross_PR[0]*(x - 3) + Matrix_PQ_Cross_PR[1]*(y - 1) + Matrix_PQ_Cross_PR[2]*(z + 8)\n",
    "            ,dict=True)) # Solving for the Equation of plane\n",
    "'''\n",
    "     The Equation we get is x + 41/12 y -5/4 z = 197/12\n",
    "     \n",
    "     To find the x_intercept we will set y and z = 0\n",
    "     \n",
    "     To find the y_intercept we will set x and z = 0\n",
    "     \n",
    "     To find the z_intercept we will set y and x = 0\n",
    "'''\n",
    "\n",
    "x_intercept = solve(x + 41/12*(0*y) - 5/4*(0*z) - 197/12) # Solving for x_intercept\n",
    "y_intercept = solve(x*0 + 41/12*(y) - 5/4*(0*z) - 197/12) # Solving for y_intercept\n",
    "z_intercept = solve(x*0 + 41/12*(0*y) - 5/4*(z) - 197/12) # Solving for z_intercept\n",
    "\n",
    "x_axis=[float(x_intercept[0]), 0 , 0]\n",
    "y_axis=[0 , float(y_intercept[0]) , 0]\n",
    "z_axis=[0 , 0 , float(z_intercept[0])]\n",
    "\n",
    "\n",
    "\n",
    "trace1=go.Mesh3d(x = P,\n",
    "                y = Q,\n",
    "                z = R,\n",
    "                color='yellow')\n",
    "\n",
    "trace2=go.Mesh3d(x = x_axis,\n",
    "                y = y_axis,\n",
    "                z = z_axis,\n",
    "                color='pink')\n",
    "\n",
    "\n",
    "    \n",
    "data=[trace1,trace2] # Storing the data from trace in data variable\n",
    "\n",
    "py.iplot(data,filename='Plane') # py.iplot take data variable as input \n",
    "\n",
    "\n",
    "\n",
    "\n",
    "\n"
   ]
  },
  {
   "cell_type": "markdown",
   "metadata": {},
   "source": [
    "## Equation of Circle #\n",
    "        Circle is define as a set of points that all are at a certain fixed distance.\n",
    "        A circle is a plane figure bounded by one line, and such that all right lines drawn from a certain \n",
    "        point within it to the bounding line, are equal. The bounding line is called its circumference and \n",
    "        the point, its centre.\n",
    "        — Euclid, Elements, Book I\n",
    "        \n",
    "        The equation of a circle is:\n",
    "         r^2 = (x - a)^2 + (y - b)^2\n",
    "          where:\n",
    "           r is the radius \n",
    "           \n",
    "           a , b are the center point\n",
    "           \n",
    "           x , y are any points around the circle\n",
    "           \n",
    "           If the center of the circle is at (0,0) then the equation of the circle is:\n",
    "           x^2 + y^2 = r^2"
   ]
  },
  {
   "cell_type": "code",
   "execution_count": 15,
   "metadata": {},
   "outputs": [
    {
     "data": {
      "image/png": "[encoded data removed]",
      "text/plain": [
       "<matplotlib.figure.Figure at 0x7f45894e2550>"
      ]
     },
     "metadata": {},
     "output_type": "display_data"
    }
   ],
   "source": [
    "from sympy import *\n",
    "import matplotlib.pyplot as plt\n",
    "\n",
    "r = 5\n",
    "a = 3\n",
    "b = 6\n",
    "\n",
    "fig, ax = plt.subplots()\n",
    "ax.add_patch(plt.Circle((a, b), r, color='g', alpha=0.5))\n",
    "\n",
    "\n",
    "#Use adjustable='box-forced' to make the plot area square-shaped as well.\n",
    "ax.set_aspect('equal', adjustable='datalim')\n",
    "ax.plot()   #Causes an autoscale update.\n",
    "plt.show()\n"
   ]
  },
  {
   "cell_type": "markdown",
   "metadata": {},
   "source": [
    "# Polynomials #\n",
    "            In mathematics, a polynomial is an expression consisting of variables and coefficients they are\n",
    "            express in the form of : ao + a1x + a2x^2 + a3x^3 ................\n",
    "            \n",
    "            The expression that goes up to x^3 is called 3rd degree polynomial and with x^2 is called\n",
    "            2nd degree polynomial\n",
    "            \n",
    "            for example:\n",
    "            x^2 + 5x + 1 = 0\n",
    "            \n",
    "            3x^3 - 4zy + xz = 16\n",
    "            \n",
    " "
   ]
  },
  {
   "cell_type": "code",
   "execution_count": 42,
   "metadata": {},
   "outputs": [
    {
     "name": "stdout",
     "output_type": "stream",
     "text": [
      "The sum of Polynomial P and Q is:  Poly(5*x*y + x + 4*y - 17, x, y, domain='ZZ') \n",
      "\n",
      "The subtraction of Polynomial P and Q is:  Poly(x**3 + x**2 - 2*x*y - y*z**2 - 21, x, y, z, domain='ZZ') \n",
      "\n",
      "The Multiplication of Polynomial P and Q is:  Poly(10*x**4*y - 5*x**3*y**5 - 2*x**3*y + x**2*y**5 - 5*x**2*y**2*z**2 - 10*x**2*y - 2*x**2*z**6 + x*y**4*z**6 + x*y**2*z**2 + 2*x*y + y*z**8 + 2*z**6, x, y, z, domain='ZZ') \n",
      "\n",
      "The Division of Polynomial P and Q is:  5*y/2 \n",
      " -5*x*y**5/2 + x*y - 5*y**2*z**2/2 - 5*y + z**6 \n",
      " Where q is quotient and r is remainder \n",
      "\n",
      "[-4, 1] \n",
      "\n",
      "Solving for P:  [-sqrt(-377/(150*(1007/2000 + sqrt(725129565)/18000)**(1/3)) - 2/5 + 2*(1007/2000 + sqrt(725129565)/18000)**(1/3))/2 + sqrt(-2*(1007/2000 + sqrt(725129565)/18000)**(1/3) - 4/5 + 377/(150*(1007/2000 + sqrt(725129565)/18000)**(1/3)) + 14/(5*sqrt(-377/(150*(1007/2000 + sqrt(725129565)/18000)**(1/3)) - 2/5 + 2*(1007/2000 + sqrt(725129565)/18000)**(1/3))))/2, sqrt(-377/(150*(1007/2000 + sqrt(725129565)/18000)**(1/3)) - 2/5 + 2*(1007/2000 + sqrt(725129565)/18000)**(1/3))/2 - sqrt(-14/(5*sqrt(-377/(150*(1007/2000 + sqrt(725129565)/18000)**(1/3)) - 2/5 + 2*(1007/2000 + sqrt(725129565)/18000)**(1/3))) - 2*(1007/2000 + sqrt(725129565)/18000)**(1/3) - 4/5 + 377/(150*(1007/2000 + sqrt(725129565)/18000)**(1/3)))/2, sqrt(-377/(150*(1007/2000 + sqrt(725129565)/18000)**(1/3)) - 2/5 + 2*(1007/2000 + sqrt(725129565)/18000)**(1/3))/2 + sqrt(-14/(5*sqrt(-377/(150*(1007/2000 + sqrt(725129565)/18000)**(1/3)) - 2/5 + 2*(1007/2000 + sqrt(725129565)/18000)**(1/3))) - 2*(1007/2000 + sqrt(725129565)/18000)**(1/3) - 4/5 + 377/(150*(1007/2000 + sqrt(725129565)/18000)**(1/3)))/2, -sqrt(-2*(1007/2000 + sqrt(725129565)/18000)**(1/3) - 4/5 + 377/(150*(1007/2000 + sqrt(725129565)/18000)**(1/3)) + 14/(5*sqrt(-377/(150*(1007/2000 + sqrt(725129565)/18000)**(1/3)) - 2/5 + 2*(1007/2000 + sqrt(725129565)/18000)**(1/3))))/2 - sqrt(-377/(150*(1007/2000 + sqrt(725129565)/18000)**(1/3)) - 2/5 + 2*(1007/2000 + sqrt(725129565)/18000)**(1/3))/2] \n",
      "\n"
     ]
    }
   ],
   "source": [
    "# Arithmeti Operations#\n",
    "\n",
    "from sympy import *\n",
    "\n",
    "x, y, z = symbols('x,y,z')\n",
    "\n",
    "\n",
    "# Addition #\n",
    "\n",
    "P = 3*x**2 - 2*x + 5*x*y + 1 # 3x^2 - 2x + 5xy + 1\n",
    "Q = -3*x**2 +3*x + 4*y -18   # -3x^2 + 3x + 4y - 18\n",
    "\n",
    "p_plus_Q = P+Q # Adding P and Q\n",
    "\n",
    "print('The sum of Polynomial P and Q is: ',p_plus_Q.as_poly(),'\\n') # Printing the Polynomia;\n",
    "\n",
    "# Subtracting #\n",
    "\n",
    "P = x**3 - 2*x**2 + x*y - 1         # x^3 - 2x^2 + xy 1 1\n",
    "Q = -3*x**2 +3*x*y + y*z**2 + 20    # -3x^2 + 3xy + yz^2 + 28\n",
    "\n",
    "p_minus_Q = P-Q # Subtracting P and Q\n",
    "\n",
    "print('The subtraction of Polynomial P and Q is: ',p_minus_Q.as_poly(),'\\n') # Printing the Polynomia;\n",
    "\n",
    "\n",
    "# Multiplying #\n",
    "\n",
    "P = z**6 - 5*y*x**2 + x*y - 0         # x^3 - 2x^2 + xy 1 1\n",
    "Q = -2*x**2 + x*y**4 + y*z**2 + 2    # -3x^2 + 3xy + yz^2 + 28\n",
    "\n",
    "p_mul_Q = P*Q # Subtracting P and Q\n",
    "\n",
    "print('The Multiplication of Polynomial P and Q is: ',p_mul_Q.as_poly(),'\\n') # Printing the Polynomia;\n",
    "\n",
    "# Division #\n",
    "\n",
    "P = z**6 - 5*y*x**2 + x*y - 0         # x^3 - 2x^2 + xy 1 1\n",
    "Q = -2*x**2 + x*y**4 + y*z**2 + 2    # -3x^2 + 3xy + yz^2 + 28\n",
    "\n",
    "q , r =div(P , Q)\n",
    "\n",
    "print('The Division of Polynomial P and Q is: ',q,'\\n',r,'\\n','Where q is quotient and r is remainder','\\n') # Printing the Polynomia;\n",
    "\n",
    "\n",
    "# Simple Factors #\n",
    "\n",
    "P = x**2 + 3*x - 4\n",
    "print(solve(P),'\\n')\n",
    "\n",
    "# Factors #\n",
    "\n",
    "P = 5*x**4 + 3*x**2 + 7*x - 19\n",
    "\n",
    "print('Solving for P: ',solve(P,x),'\\n')\n",
    "\n",
    "\n"
   ]
  },
  {
   "cell_type": "code",
   "execution_count": 48,
   "metadata": {},
   "outputs": [
    {
     "data": {
      "text/html": [
       "<iframe id=\"igraph\" scrolling=\"no\" style=\"border:none;\" seamless=\"seamless\" src=\"https://plot.ly/~sarimk80/10.embed\" height=\"525px\" width=\"100%\"></iframe>"
      ],
      "text/plain": [
       "<plotly.tools.PlotlyDisplay object>"
      ]
     },
     "execution_count": 48,
     "metadata": {},
     "output_type": "execute_result"
    }
   ],
   "source": [
    "# Graph #\n",
    "# 2nd Degree Graph #\n",
    "\n",
    "from sympy import *\n",
    "import plotly.plotly as py #Import plotly as py\n",
    "import plotly.graph_objs as go #Import plotly graph as g0\n",
    "from plotly.offline import download_plotlyjs, init_notebook_mode, plot, iplot #So we can use plotly library offline\n",
    "\n",
    "x, y, z = symbols('x,y,z')\n",
    "x_axis=[]\n",
    "y_axis=[]\n",
    "\n",
    "y = 2*x**2 + 3*x -20\n",
    "\n",
    "for x in range(-10,10):\n",
    "    y = 2*x**2 + 3*x -20\n",
    "    \n",
    "    x_axis.append(x)\n",
    "    \n",
    "    y_axis.append(y)\n",
    "    \n",
    "trace=go.Scatter(x=x_axis,y=y_axis)# Defining the x and y coordinates of the graph , as you can see the x and y \n",
    "                                            # value as the same\n",
    "    \n",
    "data=[trace] # Storing the data from trace in data variable\n",
    "\n",
    "py.iplot(data,filename='2nd_Degree') # py.iplot take data variable as input \n",
    "    \n"
   ]
  },
  {
   "cell_type": "code",
   "execution_count": 2,
   "metadata": {},
   "outputs": [
    {
     "data": {
      "text/html": [
       "<iframe id=\"igraph\" scrolling=\"no\" style=\"border:none;\" seamless=\"seamless\" src=\"https://plot.ly/~sarimk80/12.embed\" height=\"525px\" width=\"100%\"></iframe>"
      ],
      "text/plain": [
       "<plotly.tools.PlotlyDisplay object>"
      ]
     },
     "execution_count": 2,
     "metadata": {},
     "output_type": "execute_result"
    }
   ],
   "source": [
    "# Graph #\n",
    "# 3nd Degree Graph #\n",
    "\n",
    "from sympy import *\n",
    "import plotly.plotly as py #Import plotly as py\n",
    "import plotly.graph_objs as go #Import plotly graph as g0\n",
    "from plotly.offline import download_plotlyjs, init_notebook_mode, plot, iplot #So we can use plotly library offline\n",
    "\n",
    "x, y, z = symbols('x,y,z')\n",
    "x_axis=[]\n",
    "y_axis=[]\n",
    "\n",
    "y = x**3/2 + 4*x**2 - 5*x/4 + 7/4\n",
    "\n",
    "for x in range(-5,5):\n",
    "    y = x**3/2 + 4*x**2 - 5*x/4 + 7/4\n",
    "    \n",
    "    x_axis.append(x)\n",
    "    \n",
    "    y_axis.append(y)\n",
    "    \n",
    "trace=go.Scatter(x=x_axis,y=y_axis)# Defining the x and y coordinates of the graph , as you can see the x and y \n",
    "                                            # value as the same\n",
    "    \n",
    "data=[trace] # Storing the data from trace in data variable\n",
    "\n",
    "py.iplot(data,filename='3nd_Degree') # py.iplot take data variable as input \n",
    "    \n"
   ]
  },
  {
   "cell_type": "code",
   "execution_count": 3,
   "metadata": {},
   "outputs": [
    {
     "data": {
      "text/html": [
       "<iframe id=\"igraph\" scrolling=\"no\" style=\"border:none;\" seamless=\"seamless\" src=\"https://plot.ly/~sarimk80/14.embed\" height=\"525px\" width=\"100%\"></iframe>"
      ],
      "text/plain": [
       "<plotly.tools.PlotlyDisplay object>"
      ]
     },
     "execution_count": 3,
     "metadata": {},
     "output_type": "execute_result"
    }
   ],
   "source": [
    "# Graph #\n",
    "# 4th Degree Graph #\n",
    "\n",
    "from sympy import *\n",
    "import plotly.plotly as py #Import plotly as py\n",
    "import plotly.graph_objs as go #Import plotly graph as g0\n",
    "from plotly.offline import download_plotlyjs, init_notebook_mode, plot, iplot #So we can use plotly library offline\n",
    "\n",
    "x, y, z = symbols('x,y,z')\n",
    "x_axis=[]\n",
    "y_axis=[]\n",
    "\n",
    "y = x**4/5 + 2*x**3/5 + x**2/5 + 5*x/5 + 4/5\n",
    "\n",
    "\n",
    "for x in range(-4,4):\n",
    "    y = x**4/5 + 2*x**3/5 + x**2/5 + 5*x/5 + 4/5\n",
    "    \n",
    "    x_axis.append(x)\n",
    "    \n",
    "    y_axis.append(y)\n",
    "    \n",
    "trace=go.Scatter(x=x_axis,y=y_axis)# Defining the x and y coordinates of the graph , as you can see the x and y \n",
    "                                            # value as the same\n",
    "    \n",
    "data=[trace] # Storing the data from trace in data variable\n",
    "\n",
    "py.iplot(data,filename='4th_Degree') # py.iplot take data variable as input \n",
    "    \n"
   ]
  },
  {
   "cell_type": "code",
   "execution_count": 62,
   "metadata": {},
   "outputs": [
    {
     "data": {
      "text/html": [
       "<iframe id=\"igraph\" scrolling=\"no\" style=\"border:none;\" seamless=\"seamless\" src=\"https://plot.ly/~sarimk80/16.embed\" height=\"525px\" width=\"100%\"></iframe>"
      ],
      "text/plain": [
       "<plotly.tools.PlotlyDisplay object>"
      ]
     },
     "execution_count": 62,
     "metadata": {},
     "output_type": "execute_result"
    }
   ],
   "source": [
    "# Graph #\n",
    "# 5th Degree Graph #\n",
    "\n",
    "from sympy import *\n",
    "import plotly.plotly as py #Import plotly as py\n",
    "import plotly.graph_objs as go #Import plotly graph as g0\n",
    "from plotly.offline import download_plotlyjs, init_notebook_mode, plot, iplot #So we can use plotly library offline\n",
    "\n",
    "x, y, z = symbols('x,y,z')\n",
    "x_axis=[]\n",
    "y_axis=[]\n",
    "\n",
    "y = - x**5 - x**4 + 24*x**3 - 2*x**2 + 7*x - 4\n",
    "\n",
    "for x in range(-10,10):\n",
    "    y = - x**5 - x**4 + 24*x**3 - 2*x**2 + 7*x - 4\n",
    "    \n",
    "    x_axis.append(x)\n",
    "    \n",
    "    y_axis.append(y)\n",
    "    \n",
    "trace=go.Scatter(x=x_axis,y=y_axis)# Defining the x and y coordinates of the graph , as you can see the x and y \n",
    "                                            # value as the same\n",
    "    \n",
    "data=[trace] # Storing the data from trace in data variable\n",
    "\n",
    "py.iplot(data,filename='5th_Degree') # py.iplot take data variable as input \n",
    "    \n"
   ]
  }
 ],
 "metadata": {
  "kernelspec": {
   "display_name": "Python 3",
   "language": "python",
   "name": "python3"
  },
  "language_info": {
   "codemirror_mode": {
    "name": "ipython",
    "version": 3
   },
   "file_extension": ".py",
   "mimetype": "text/x-python",
   "name": "python",
   "nbconvert_exporter": "python",
   "pygments_lexer": "ipython3",
   "version": "3.6.2"
  }
 },
 "nbformat": 4,
 "nbformat_minor": 2
}
