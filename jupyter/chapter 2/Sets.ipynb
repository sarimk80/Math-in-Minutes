{
 "cells": [
  {
   "cell_type": "markdown",
   "metadata": {},
   "source": [
    "# Sets #\n",
    "\n",
    "        Sets is a collection or group of objects or numbers. Sets are symbolize by an uppercase letters aor bold\n",
    "        letters,set may have a finite or infinite number of elements, and is usually described by enclosing the \n",
    "        elements in curly brackets { }.It doesnot matter if the elements in the sets are repeated or if they are not\n",
    "        in  proper order. The objects in set can be of any things example: People , numbers , foods or cars.\n",
    "        \n",
    "        \n",
    "        A = {1 , 4 , 7 , 10 , 0}\n",
    "        \n",
    "        B = {sam , david , Ali , sarim}\n",
    "        \n",
    "        Empty set is denoted by:\n",
    "        \n",
    "        C = {} "
   ]
  },
  {
   "cell_type": "code",
   "execution_count": 7,
   "metadata": {},
   "outputs": [
    {
     "name": "stdout",
     "output_type": "stream",
     "text": [
      "{'4', '0', '1', '10', '7'}\n",
      "{'sarim', 'sam', 'david', 'ALi'}\n",
      "set()\n",
      "{}\n"
     ]
    }
   ],
   "source": [
    "A = set(['1','4','7','10','0'])\n",
    "\n",
    "print(A)\n",
    "\n",
    "B = {'sam','david','ALi','sarim'}\n",
    "\n",
    "print(B)\n",
    "\n",
    "C = set()\n",
    "\n",
    "print(C)\n",
    "\n",
    "D = {}\n",
    "\n",
    "print(D)\n"
   ]
  },
  {
   "cell_type": "markdown",
   "metadata": {},
   "source": [
    "# Unions #\n",
    "\n",
    "        The union of the sets A and B is written as A u B and it is define as all the elements in set A and B.\n",
    "        \n",
    "        {4 , 7} u {4 , 6 , 1} = {1 , 4 , 6 , 7}\n",
    "        \n",
    "       "
   ]
  },
  {
   "cell_type": "code",
   "execution_count": 9,
   "metadata": {},
   "outputs": [
    {
     "name": "stdout",
     "output_type": "stream",
     "text": [
      "{1, 4, 6, 7}\n",
      "{'train', 'Bike', 'bus', 'truck', 'car'}\n"
     ]
    }
   ],
   "source": [
    "A = {4 , 7}\n",
    "\n",
    "B = {4 , 6 , 1}\n",
    "\n",
    "print(A | B)\n",
    "\n",
    "\n",
    "C = {'car' , 'truck' , 'Bike'}\n",
    "\n",
    "D = {'bus' , 'train'}\n",
    "\n",
    "print(C.union(D))"
   ]
  },
  {
   "cell_type": "markdown",
   "metadata": {},
   "source": [
    "# Intersections #\n",
    "\n",
    "            The intersection of two sets is written as A n B and it is define as the element that is commom\n",
    "            is both set A and B\n",
    "            \n",
    "            \n",
    "            {5 , 8 , 4} n {5 , 1 , 0} = {5}"
   ]
  },
  {
   "cell_type": "code",
   "execution_count": 12,
   "metadata": {},
   "outputs": [
    {
     "name": "stdout",
     "output_type": "stream",
     "text": [
      "{5}\n",
      "{'ali'}\n",
      "{5}\n"
     ]
    }
   ],
   "source": [
    "A = {5 , 8 , 4}\n",
    "\n",
    "B = {5 , 1 , 0}\n",
    "\n",
    "print(A & B)\n",
    "\n",
    "C = {'sam' , 'ali' , 'car'}\n",
    "D = {'ali' , 'plane' , 'train'}\n",
    "E = {'ali' , 'bike'}\n",
    "\n",
    "print(C & D & E)\n",
    "\n",
    "\n",
    "print(A.intersection(B))"
   ]
  },
  {
   "cell_type": "markdown",
   "metadata": {},
   "source": [
    "# Complements #\n",
    "\n",
    "            The complement of two sets in denoted by A - B or A \\ B \n",
    "            \n",
    "            \n",
    "            {9 , 5 , 1} - {5 , 2 , 1} = {9}"
   ]
  },
  {
   "cell_type": "code",
   "execution_count": 17,
   "metadata": {},
   "outputs": [
    {
     "name": "stdout",
     "output_type": "stream",
     "text": [
      "{9}\n",
      "{2}\n",
      "{'biscuits', 'floor', 'salad'}\n"
     ]
    }
   ],
   "source": [
    "A = {9 , 5 , 1}\n",
    "B = {5 , 2 , 1}\n",
    "\n",
    "print(A - B)\n",
    "print(B - A)\n",
    "\n",
    "\n",
    "C = {'chips' , 'salad' , 'floor' , 'biscuits'}\n",
    "\n",
    "D = {'TV' , 'remote' , 'chips'}\n",
    "\n",
    "print(C.difference(D))"
   ]
  },
  {
   "cell_type": "markdown",
   "metadata": {},
   "source": [
    "# SubSets  and SuperSet #\n",
    "\n",
    "            If every memeber of A is in B , then A is a subset of B and then B is a superset of A\n",
    "            \n",
    "            "
   ]
  },
  {
   "cell_type": "code",
   "execution_count": 22,
   "metadata": {},
   "outputs": [
    {
     "name": "stdout",
     "output_type": "stream",
     "text": [
      "True\n",
      "True\n",
      "True\n",
      "False\n",
      "False\n"
     ]
    }
   ],
   "source": [
    "A = {5 , 10 , 12 , 84 , 90}\n",
    "\n",
    "B= {84 , 10 , 12 , 90 , 5 , 1 , 4 , 9}\n",
    "\n",
    "print (A <= B) # This return true because elements of set A are also in set B\n",
    "\n",
    "print(B >= A) #This will also return true because B has every element of A\n",
    "\n",
    "C = {'car' , 'truck'}\n",
    "\n",
    "D = {'bike' , 'cycle' , 'truck' , 'train' , 'car'}\n",
    "\n",
    "print(C.issubset(D))\n",
    "\n",
    "print(C.issuperset(D)) # C is not a super set of D because C has not all the elements that are in D\n",
    "\n",
    "print(B <= A) # Will return false because all elements of B are not in A"
   ]
  },
  {
   "cell_type": "markdown",
   "metadata": {},
   "source": [
    "# Hilbert’s hotel #\n",
    "            \n",
    "            Hilbert's paradox of the Grand Hotel is an experement which illustrate the counterintuitive property\n",
    "            of infinite sets.Hilbert’s hotel shows that the result of adding an element to a countably infinite \n",
    "            set is still a countably infinite set, so there must be different countable infinities.\n",
    "            \n",
    "            This imaginary hotel has a countably infinite set of rooms numbered 1, 2, 3, . . . , and is fully \n",
    "            occupied, when a latecomer arrives and pleads for a room. After some thought, the concierge uses a \n",
    "            public-address system to ask every guest to move into the next room up in numerical order. So the \n",
    "            occupant of room 1 moves into room 2, room 2 moves to room 3, and so on. For any of the countably \n",
    "            infinite guests in room N, there is always a room N + 1 for them to move into, so that by the time\n",
    "            everyone has moved, room 1 is free for the new guest to occupy.\n",
    "            \n",
    "            \n",
    "\n",
    "\n",
    "Visual representation of [Hilbert's hotel](https://www.youtube.com/watch?v=Uj3_KqkI9Zo)\n",
    "            \n",
    "            \n",
    "     \n",
    "                "
   ]
  },
  {
   "cell_type": "markdown",
   "metadata": {},
   "source": [
    "# Power Set #\n",
    "                \n",
    "                The power set of a set S is the set of all subsets of S. The power set contains S itself and \n",
    "                the empty set because these are both subsets of S. \n",
    "                \n",
    "                For example, the power set of the set \n",
    "                {1, 2, 3} is {{1, 2, 3}, {1, 2}, {1, 3}, {2, 3}, {1}, {2}, {3}, ∅}.\n",
    "\n",
    "\n",
    "\n",
    "            "
   ]
  },
  {
   "cell_type": "code",
   "execution_count": 40,
   "metadata": {},
   "outputs": [
    {
     "name": "stdout",
     "output_type": "stream",
     "text": [
      "[(), (1,), (2,), (3,), (1, 2), (1, 3), (2, 3), (1, 2, 3)]\n",
      "[(), ('train',), ('bus',), ('car',), ('train', 'bus'), ('train', 'car'), ('bus', 'car'), ('train', 'bus', 'car')]\n"
     ]
    }
   ],
   "source": [
    "from itertools import chain, combinations\n",
    "\n",
    "def powerset(iterable):\n",
    "    \"powerset([1,2,3]) --> () (1,) (2,) (3,) (1,2) (1,3) (2,3) (1,2,3)\"\n",
    "    s = list(iterable)\n",
    "    return chain.from_iterable(combinations(s, r) for r in range(len(s)+1))\n",
    "\n",
    "\n",
    "A ={1 , 2 , 3}\n",
    "print(list(powerset(A)))\n",
    "\n",
    "B = {'car' , 'bus' , 'train'}\n",
    "print(list(powerset(B)))\n",
    "\n",
    "\n",
    "    \n",
    "\n"
   ]
  }
 ],
 "metadata": {
  "kernelspec": {
   "display_name": "Python 3",
   "language": "python",
   "name": "python3"
  },
  "language_info": {
   "codemirror_mode": {
    "name": "ipython",
    "version": 3
   },
   "file_extension": ".py",
   "mimetype": "text/x-python",
   "name": "python",
   "nbconvert_exporter": "python",
   "pygments_lexer": "ipython3",
   "version": "3.6.2"
  }
 },
 "nbformat": 4,
 "nbformat_minor": 2
}
