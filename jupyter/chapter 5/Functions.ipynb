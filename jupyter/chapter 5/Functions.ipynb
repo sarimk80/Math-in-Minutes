{
 "cells": [
  {
   "cell_type": "markdown",
   "metadata": {},
   "source": [
    "# Functions #\n",
    "\n",
    "        Functions in mathematics are define as how change in one variable depend on other variable, \n",
    "        it is also define as the relation between two variable.\n",
    "        for example :\n",
    "        \n",
    "         f(x) = 3x + 2\n",
    "         \n",
    "         if x = 1 then f(1) is 3(1) + 2 = 5\n",
    "         if x = 5 then f(5) is 3(5) + 2 = 17"
   ]
  },
  {
   "cell_type": "code",
   "execution_count": 7,
   "metadata": {},
   "outputs": [
    {
     "name": "stdout",
     "output_type": "stream",
     "text": [
      "f(x) when x is 1 =  5 \n",
      "\n",
      "f(x) when x is  0 :  2 \n",
      "\n",
      "f(x) when x is  1 :  5 \n",
      "\n",
      "f(x) when x is  2 :  8 \n",
      "\n",
      "f(x) when x is  3 :  11 \n",
      "\n",
      "f(x) when x is  4 :  14 \n",
      "\n",
      "f(x) when x is  5 :  17 \n",
      "\n",
      "f(x) when x is  6 :  20 \n",
      "\n",
      "f(x) when x is  7 :  23 \n",
      "\n",
      "f(x) when x is  8 :  26 \n",
      "\n",
      "f(x) when x is  9 :  29 \n",
      "\n"
     ]
    }
   ],
   "source": [
    "from sympy import *\n",
    "\n",
    "x = Symbol('x')\n",
    "\n",
    "\n",
    "exp = 3*x + 2\n",
    "\n",
    "f = lambdify(x,exp)\n",
    "f=Do\n",
    "\n",
    "print('f(x) when x is 1 = ',f(1),'\\n')\n",
    "\n",
    "for i in range(0,10):\n",
    "    print('f(x) when x is ',i,': ',f(i),'\\n')\n"
   ]
  },
  {
   "cell_type": "markdown",
   "metadata": {},
   "source": [
    "# Exponential function#\n",
    "            \n",
    "            The expoonential function in mathematics is given as :\n",
    "            \n",
    "            f(x) = e^x or\n",
    "            \n",
    "            f(x) = 2^x\n",
    "            \n",
    "            Its ubiquitous occurrence in pure and applied mathematics has led mathematician W. Rudin \n",
    "            to opine that the exponential function is \"the most important function in mathematics\"\n",
    "            "
   ]
  },
  {
   "cell_type": "code",
   "execution_count": 24,
   "metadata": {},
   "outputs": [
    {
     "name": "stdout",
     "output_type": "stream",
     "text": [
      "The value of e is   2.71828182845905\n"
     ]
    },
    {
     "data": {
      "text/html": [
       "<iframe id=\"igraph\" scrolling=\"no\" style=\"border:none;\" seamless=\"seamless\" src=\"https://plot.ly/~sarimk80/18.embed\" height=\"525px\" width=\"100%\"></iframe>"
      ],
      "text/plain": [
       "<plotly.tools.PlotlyDisplay object>"
      ]
     },
     "execution_count": 24,
     "metadata": {},
     "output_type": "execute_result"
    }
   ],
   "source": [
    "from sympy import *\n",
    "from mpmath import *\n",
    "import plotly.plotly as py #Import plotly as py\n",
    "import plotly.graph_objs as go #Import plotly graph as g0\n",
    "from plotly.offline import download_plotlyjs, init_notebook_mode, plot, iplot #So we can use plotly library offline\n",
    "\n",
    "\n",
    "x = Symbol('x')\n",
    "\n",
    "x_axis=[]\n",
    "y_axis=[]\n",
    "\n",
    "function = exp(1)**x\n",
    "\n",
    "f=lambdify(x,function)\n",
    "\n",
    "print('The value of e is  ',f(1))\n",
    "\n",
    "for i in range(0,10):\n",
    "    x_axis.append(i)\n",
    "    y_axis.append(f(i))\n",
    "\n",
    "\n",
    "\n",
    "trace=go.Scatter(x=x_axis,y=y_axis,name='Parabola')# Defining the x and y coordinates of the graph , as you can see the x and y \n",
    "                                            # value as the same\n",
    "    \n",
    "data=[trace] # Storing the data from trace in data variable\n",
    "\n",
    "py.iplot(data,filename='Exponential_Function') # py.iplot take data variable as input \n",
    "\n"
   ]
  },
  {
   "cell_type": "markdown",
   "metadata": {},
   "source": [
    "# Inverse Function #\n",
    "            It reverses the action of the other function for example:\n",
    "            \n",
    "            f(x) = 2x - 5 if x is equal equal 5 then f(x) is 2(5) - 5 = 10 - 5 = 5 but if we want to find\n",
    "            x and f(x) is given then it is an inverse function: \n",
    "            \n",
    "            f(x) = y\n",
    "            x = g(x)\n",
    "            \n",
    "            y = 2*g(x) - 5\n",
    "            \n",
    "            y + 5 = 2g*(x)\n",
    "            \n",
    "            g(x) = (y + 5)/2\n",
    "            "
   ]
  },
  {
   "cell_type": "code",
   "execution_count": 2,
   "metadata": {},
   "outputs": [
    {
     "name": "stdout",
     "output_type": "stream",
     "text": [
      "3.5\n"
     ]
    },
    {
     "data": {
      "text/html": [
       "<iframe id=\"igraph\" scrolling=\"no\" style=\"border:none;\" seamless=\"seamless\" src=\"https://plot.ly/~sarimk80/20.embed\" height=\"525px\" width=\"100%\"></iframe>"
      ],
      "text/plain": [
       "<plotly.tools.PlotlyDisplay object>"
      ]
     },
     "execution_count": 2,
     "metadata": {},
     "output_type": "execute_result"
    }
   ],
   "source": [
    "from sympy import *\n",
    "from mpmath import *\n",
    "import plotly.plotly as py #Import plotly as py\n",
    "import plotly.graph_objs as go #Import plotly graph as g0\n",
    "from plotly.offline import download_plotlyjs, init_notebook_mode, plot, iplot #So we can use plotly library offline\n",
    "\n",
    "\n",
    "x = Symbol('x')\n",
    "y = Symbol('y')\n",
    "\n",
    "x_axis=[]\n",
    "y_axis=[]\n",
    "\n",
    "inverse_fun = (y + 5)/2\n",
    "\n",
    "f = lambdify(y,inverse_fun)\n",
    "print(f(2))\n",
    "\n",
    "for i in range(1,10):\n",
    "    #nat_lon = ln(i)\n",
    "    x_axis.append(i)\n",
    "    x = float(ln(i))\n",
    "    y_axis.append(x)\n",
    "    \n",
    "    \n",
    "\n",
    "\n",
    "trace=go.Scatter(x=x_axis,y=y_axis,name='Parabola')# Defining the x and y coordinates of the graph , as you can see the x and y \n",
    "                                            # value as the same\n",
    "    \n",
    "data=[trace] # Storing the data from trace in data variable\n",
    "\n",
    "py.iplot(data,filename='Inverse_Function') # py.iplot take data variable as input \n",
    "\n",
    "\n",
    "    \n",
    "    "
   ]
  },
  {
   "cell_type": "markdown",
   "metadata": {},
   "source": [
    "# Continuous functions #\n",
    "                The never ending function is a continuous function , the function which you can draw\n",
    "                without lifting the pen from the paper.\n",
    "                \n",
    "                f(x) = 1/x is a continuous function \n",
    "                this function is continuous only of x is not equal to 0"
   ]
  },
  {
   "cell_type": "code",
   "execution_count": 47,
   "metadata": {},
   "outputs": [
    {
     "name": "stdout",
     "output_type": "stream",
     "text": [
      "0.5\n"
     ]
    },
    {
     "data": {
      "text/html": [
       "<iframe id=\"igraph\" scrolling=\"no\" style=\"border:none;\" seamless=\"seamless\" src=\"https://plot.ly/~sarimk80/23.embed\" height=\"525px\" width=\"100%\"></iframe>"
      ],
      "text/plain": [
       "<plotly.tools.PlotlyDisplay object>"
      ]
     },
     "execution_count": 47,
     "metadata": {},
     "output_type": "execute_result"
    }
   ],
   "source": [
    "from sympy import *\n",
    "from mpmath import *\n",
    "import plotly.plotly as py #Import plotly as py\n",
    "import plotly.graph_objs as go #Import plotly graph as g0\n",
    "from plotly.offline import download_plotlyjs, init_notebook_mode, plot, iplot #So we can use plotly library offline\n",
    "\n",
    "\n",
    "x = Symbol('x')\n",
    "y = Symbol('y')\n",
    "\n",
    "x_axis_pos=[]\n",
    "y_axis_pos=[]\n",
    "\n",
    "\n",
    "x_axis_neg=[]\n",
    "y_axis_neg=[]\n",
    "\n",
    "con_fun = 1/x\n",
    "\n",
    "f= lambdify(x,con_fun)\n",
    "print(f(2))\n",
    "\n",
    "for i in range(1,10):\n",
    "    x_axis_pos.append(i)\n",
    "    y_axis_pos.append(f(i))\n",
    "\n",
    "for i in range(-10,-1):\n",
    "    x_axis_neg.append(i)\n",
    "    y_axis_neg.append(f(i))\n",
    "                      \n",
    "trace1=go.Scatter(x=x_axis_pos,y=y_axis_pos,name='Positive')\n",
    "\n",
    "                      \n",
    "trace2=go.Scatter(x=x_axis_neg,y=y_axis_neg,name='Negative')# Defining the x and y coordinates of the graph , as you can see the x and y \n",
    "\n",
    "data=[trace1,trace2] # Storing the data from trace in data variable\n",
    "\n",
    "py.iplot(data,filename='con_Function') # py.iplot take data variable as input "
   ]
  },
  {
   "cell_type": "markdown",
   "metadata": {},
   "source": [
    "# Trigonometric functions #\n",
    "        The basic trigonometric functions are :\n",
    "        Sin  , Cos and Tan\n",
    "        "
   ]
  },
  {
   "cell_type": "code",
   "execution_count": 55,
   "metadata": {},
   "outputs": [
    {
     "data": {
      "text/html": [
       "<iframe id=\"igraph\" scrolling=\"no\" style=\"border:none;\" seamless=\"seamless\" src=\"https://plot.ly/~sarimk80/25.embed\" height=\"525px\" width=\"100%\"></iframe>"
      ],
      "text/plain": [
       "<plotly.tools.PlotlyDisplay object>"
      ]
     },
     "execution_count": 55,
     "metadata": {},
     "output_type": "execute_result"
    }
   ],
   "source": [
    "#Sin Graph#\n",
    "\n",
    "from sympy import *\n",
    "from mpmath import *\n",
    "import plotly.plotly as py #Import plotly as py\n",
    "import plotly.graph_objs as go #Import plotly graph as g0\n",
    "from plotly.offline import download_plotlyjs, init_notebook_mode, plot, iplot #So we can use plotly library offline\n",
    "\n",
    "x = Symbol('x')\n",
    "y = Symbol('y')\n",
    "\n",
    "x_axis=[]\n",
    "y_axis=[]\n",
    "\n",
    "for i in range(-30,30):\n",
    "    _sin = float(sin(i))\n",
    "    y_axis.append(_sin)\n",
    "    x_axis.append(i)\n",
    "\n",
    "trace=go.Scatter(x=x_axis,y=y_axis,name='Parabola')# Defining the x and y coordinates of the graph , as you can see the x and y \n",
    "                                            # value as the same\n",
    "    \n",
    "data=[trace] # Storing the data from trace in data variable\n",
    "\n",
    "py.iplot(data,filename='SinFunction') # py.iplot take data variable as input \n",
    "\n"
   ]
  },
  {
   "cell_type": "code",
   "execution_count": 56,
   "metadata": {},
   "outputs": [
    {
     "data": {
      "text/html": [
       "<iframe id=\"igraph\" scrolling=\"no\" style=\"border:none;\" seamless=\"seamless\" src=\"https://plot.ly/~sarimk80/27.embed\" height=\"525px\" width=\"100%\"></iframe>"
      ],
      "text/plain": [
       "<plotly.tools.PlotlyDisplay object>"
      ]
     },
     "execution_count": 56,
     "metadata": {},
     "output_type": "execute_result"
    }
   ],
   "source": [
    "#Cos Graph#\n",
    "\n",
    "from sympy import *\n",
    "from mpmath import *\n",
    "import plotly.plotly as py #Import plotly as py\n",
    "import plotly.graph_objs as go #Import plotly graph as g0\n",
    "from plotly.offline import download_plotlyjs, init_notebook_mode, plot, iplot #So we can use plotly library offline\n",
    "\n",
    "x = Symbol('x')\n",
    "y = Symbol('y')\n",
    "\n",
    "x_axis=[]\n",
    "y_axis=[]\n",
    "\n",
    "for i in range(-30,30):\n",
    "    _cos = float(cos(i))\n",
    "    y_axis.append(_cos)\n",
    "    x_axis.append(i)\n",
    "\n",
    "trace=go.Scatter(x=x_axis,y=y_axis,name='Parabola')# Defining the x and y coordinates of the graph , as you can see the x and y \n",
    "                                            # value as the same\n",
    "    \n",
    "data=[trace] # Storing the data from trace in data variable\n",
    "\n",
    "py.iplot(data,filename='CosFunction') # py.iplot take data variable as input \n",
    "\n"
   ]
  },
  {
   "cell_type": "code",
   "execution_count": 58,
   "metadata": {},
   "outputs": [
    {
     "ename": "TypeError",
     "evalue": "'mpf' object is not callable",
     "output_type": "error",
     "traceback": [
      "\u001b[0;31m---------------------------------------------------------------------------\u001b[0m",
      "\u001b[0;31mTypeError\u001b[0m                                 Traceback (most recent call last)",
      "\u001b[0;32m<ipython-input-58-cf8866727f19>\u001b[0m in \u001b[0;36m<module>\u001b[0;34m()\u001b[0m\n\u001b[1;32m     12\u001b[0m \u001b[0mx_axis\u001b[0m\u001b[0;34m=\u001b[0m\u001b[0;34m[\u001b[0m\u001b[0;34m]\u001b[0m\u001b[0;34m\u001b[0m\u001b[0m\n\u001b[1;32m     13\u001b[0m \u001b[0my_axis\u001b[0m\u001b[0;34m=\u001b[0m\u001b[0;34m[\u001b[0m\u001b[0;34m]\u001b[0m\u001b[0;34m\u001b[0m\u001b[0m\n\u001b[0;32m---> 14\u001b[0;31m \u001b[0mprint\u001b[0m\u001b[0;34m(\u001b[0m\u001b[0mtri\u001b[0m\u001b[0;34m(\u001b[0m\u001b[0;36m1\u001b[0m\u001b[0;34m)\u001b[0m\u001b[0;34m)\u001b[0m\u001b[0;34m\u001b[0m\u001b[0m\n\u001b[0m\u001b[1;32m     15\u001b[0m \u001b[0;34m\u001b[0m\u001b[0m\n\u001b[1;32m     16\u001b[0m \u001b[0;32mfor\u001b[0m \u001b[0mi\u001b[0m \u001b[0;32min\u001b[0m \u001b[0mrange\u001b[0m\u001b[0;34m(\u001b[0m\u001b[0;34m-\u001b[0m\u001b[0;36m30\u001b[0m\u001b[0;34m,\u001b[0m\u001b[0;36m30\u001b[0m\u001b[0;34m)\u001b[0m\u001b[0;34m:\u001b[0m\u001b[0;34m\u001b[0m\u001b[0m\n",
      "\u001b[0;31mTypeError\u001b[0m: 'mpf' object is not callable"
     ]
    }
   ],
   "source": [
    "#Tri Graph#\n",
    "\n",
    "from sympy import *\n",
    "from mpmath import *\n",
    "import plotly.plotly as py #Import plotly as py\n",
    "import plotly.graph_objs as go #Import plotly graph as g0\n",
    "from plotly.offline import download_plotlyjs, init_notebook_mode, plot, iplot #So we can use plotly library offline\n",
    "\n",
    "x = Symbol('x')\n",
    "y = Symbol('y')\n",
    "\n",
    "x_axis=[]\n",
    "y_axis=[]\n",
    "\n",
    "\n",
    "for i in range(-30,30):\n",
    "    _tan = float(tan(i))\n",
    "    y_axis.append(_tan)\n",
    "    x_axis.append(i)\n",
    "\n",
    "trace=go.Scatter(x=x_axis,y=y_axis,name='Parabola')# Defining the x and y coordinates of the graph , as you can see the x and y \n",
    "                                            # value as the same\n",
    "    \n",
    "data=[trace] # Storing the data from trace in data variable\n",
    "\n",
    "py.iplot(data,filename='TriFunction') # py.iplot take data variable as input \n",
    "\n"
   ]
  }
 ],
 "metadata": {
  "kernelspec": {
   "display_name": "Python 3",
   "language": "python",
   "name": "python3"
  },
  "language_info": {
   "codemirror_mode": {
    "name": "ipython",
    "version": 3
   },
   "file_extension": ".py",
   "mimetype": "text/x-python",
   "name": "python",
   "nbconvert_exporter": "python",
   "pygments_lexer": "ipython3",
   "version": "3.6.2"
  }
 },
 "nbformat": 4,
 "nbformat_minor": 2
}
